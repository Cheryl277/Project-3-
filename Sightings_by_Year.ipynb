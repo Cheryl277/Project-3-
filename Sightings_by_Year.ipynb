{
 "cells": [
  {
   "cell_type": "code",
   "execution_count": 53,
   "id": "5ec54287",
   "metadata": {},
   "outputs": [],
   "source": [
    "import pandas as pd\n",
    "import numpy as np\n",
    "import datetime as dt\n",
    "import matplotlib.pyplot as plt"
   ]
  },
  {
   "cell_type": "markdown",
   "id": "613feec5",
   "metadata": {},
   "source": [
    "# 1. Import Data"
   ]
  },
  {
   "cell_type": "markdown",
   "id": "5d09cf82",
   "metadata": {},
   "source": [
    "### 1.1 UFO Data"
   ]
  },
  {
   "cell_type": "code",
   "execution_count": 8,
   "id": "9e9c247e",
   "metadata": {},
   "outputs": [
    {
     "data": {
      "text/html": [
       "<div>\n",
       "<style scoped>\n",
       "    .dataframe tbody tr th:only-of-type {\n",
       "        vertical-align: middle;\n",
       "    }\n",
       "\n",
       "    .dataframe tbody tr th {\n",
       "        vertical-align: top;\n",
       "    }\n",
       "\n",
       "    .dataframe thead th {\n",
       "        text-align: right;\n",
       "    }\n",
       "</style>\n",
       "<table border=\"1\" class=\"dataframe\">\n",
       "  <thead>\n",
       "    <tr style=\"text-align: right;\">\n",
       "      <th></th>\n",
       "      <th>datetime</th>\n",
       "      <th>city</th>\n",
       "      <th>state</th>\n",
       "      <th>country</th>\n",
       "      <th>shape</th>\n",
       "      <th>duration (seconds)</th>\n",
       "      <th>ufo_latitude</th>\n",
       "      <th>ufo_longitude</th>\n",
       "      <th>year</th>\n",
       "    </tr>\n",
       "  </thead>\n",
       "  <tbody>\n",
       "    <tr>\n",
       "      <th>0</th>\n",
       "      <td>1949-10-10 20:30:00</td>\n",
       "      <td>San Marcos</td>\n",
       "      <td>TX</td>\n",
       "      <td>United States</td>\n",
       "      <td>cylinder</td>\n",
       "      <td>2700</td>\n",
       "      <td>29.883056</td>\n",
       "      <td>-97.941111</td>\n",
       "      <td>1949</td>\n",
       "    </tr>\n",
       "    <tr>\n",
       "      <th>1</th>\n",
       "      <td>1956-10-10 21:00:00</td>\n",
       "      <td>Edna</td>\n",
       "      <td>TX</td>\n",
       "      <td>United States</td>\n",
       "      <td>circle</td>\n",
       "      <td>20</td>\n",
       "      <td>28.978333</td>\n",
       "      <td>-96.645833</td>\n",
       "      <td>1956</td>\n",
       "    </tr>\n",
       "    <tr>\n",
       "      <th>2</th>\n",
       "      <td>1960-10-10 20:00:00</td>\n",
       "      <td>Kaneohe</td>\n",
       "      <td>HI</td>\n",
       "      <td>United States</td>\n",
       "      <td>light</td>\n",
       "      <td>900</td>\n",
       "      <td>21.418056</td>\n",
       "      <td>-157.803611</td>\n",
       "      <td>1960</td>\n",
       "    </tr>\n",
       "    <tr>\n",
       "      <th>3</th>\n",
       "      <td>1961-10-10 19:00:00</td>\n",
       "      <td>Bristol</td>\n",
       "      <td>TN</td>\n",
       "      <td>United States</td>\n",
       "      <td>sphere</td>\n",
       "      <td>300</td>\n",
       "      <td>36.595000</td>\n",
       "      <td>-82.188889</td>\n",
       "      <td>1961</td>\n",
       "    </tr>\n",
       "    <tr>\n",
       "      <th>4</th>\n",
       "      <td>1965-10-10 23:45:00</td>\n",
       "      <td>Norwalk</td>\n",
       "      <td>CT</td>\n",
       "      <td>United States</td>\n",
       "      <td>disk</td>\n",
       "      <td>1200</td>\n",
       "      <td>41.117500</td>\n",
       "      <td>-73.408333</td>\n",
       "      <td>1965</td>\n",
       "    </tr>\n",
       "  </tbody>\n",
       "</table>\n",
       "</div>"
      ],
      "text/plain": [
       "              datetime        city state        country     shape  \\\n",
       "0  1949-10-10 20:30:00  San Marcos    TX  United States  cylinder   \n",
       "1  1956-10-10 21:00:00        Edna    TX  United States    circle   \n",
       "2  1960-10-10 20:00:00     Kaneohe    HI  United States     light   \n",
       "3  1961-10-10 19:00:00     Bristol    TN  United States    sphere   \n",
       "4  1965-10-10 23:45:00     Norwalk    CT  United States      disk   \n",
       "\n",
       "   duration (seconds)  ufo_latitude  ufo_longitude  year  \n",
       "0                2700     29.883056     -97.941111  1949  \n",
       "1                  20     28.978333     -96.645833  1956  \n",
       "2                 900     21.418056    -157.803611  1960  \n",
       "3                 300     36.595000     -82.188889  1961  \n",
       "4                1200     41.117500     -73.408333  1965  "
      ]
     },
     "execution_count": 8,
     "metadata": {},
     "output_type": "execute_result"
    }
   ],
   "source": [
    "df_ufo = pd.read_csv('Resources/ufo_data.csv', index_col=[0])\n",
    "df_ufo.head()"
   ]
  },
  {
   "cell_type": "code",
   "execution_count": 16,
   "id": "8a378323",
   "metadata": {},
   "outputs": [
    {
     "name": "stdout",
     "output_type": "stream",
     "text": [
      "<class 'pandas.core.frame.DataFrame'>\n",
      "Int64Index: 67053 entries, 0 to 67052\n",
      "Data columns (total 10 columns):\n",
      " #   Column              Non-Null Count  Dtype  \n",
      "---  ------              --------------  -----  \n",
      " 0   datetime            67053 non-null  object \n",
      " 1   city                67053 non-null  object \n",
      " 2   state               67053 non-null  object \n",
      " 3   country             67053 non-null  object \n",
      " 4   shape               67053 non-null  object \n",
      " 5   duration (seconds)  67053 non-null  int64  \n",
      " 6   ufo_latitude        67053 non-null  float64\n",
      " 7   ufo_longitude       67053 non-null  float64\n",
      " 8   year                67053 non-null  int64  \n",
      " 9   ufo                 67053 non-null  int64  \n",
      "dtypes: float64(2), int64(3), object(5)\n",
      "memory usage: 5.6+ MB\n"
     ]
    }
   ],
   "source": [
    "df_ufo['ufo'] = 1\n",
    "df_ufo.info()"
   ]
  },
  {
   "cell_type": "code",
   "execution_count": 18,
   "id": "09d5ac2c",
   "metadata": {},
   "outputs": [
    {
     "name": "stdout",
     "output_type": "stream",
     "text": [
      "(67053, 2)\n"
     ]
    }
   ],
   "source": [
    "df_ufo_2 = df_ufo[['year', 'ufo']]\n",
    "print(df_ufo_2.shape)"
   ]
  },
  {
   "cell_type": "code",
   "execution_count": 40,
   "id": "50f20eb9",
   "metadata": {},
   "outputs": [
    {
     "data": {
      "text/plain": [
       "count    67053.000000\n",
       "mean      2004.257602\n",
       "std         10.283646\n",
       "min       1910.000000\n",
       "25%       2002.000000\n",
       "50%       2007.000000\n",
       "75%       2011.000000\n",
       "max       2014.000000\n",
       "Name: year, dtype: float64"
      ]
     },
     "execution_count": 40,
     "metadata": {},
     "output_type": "execute_result"
    }
   ],
   "source": [
    "df_ufo_2['year'].describe()"
   ]
  },
  {
   "cell_type": "markdown",
   "id": "d6738c20",
   "metadata": {},
   "source": [
    "### 1.2 Meteorite Data"
   ]
  },
  {
   "cell_type": "code",
   "execution_count": 11,
   "id": "b2365a93",
   "metadata": {},
   "outputs": [
    {
     "data": {
      "text/html": [
       "<div>\n",
       "<style scoped>\n",
       "    .dataframe tbody tr th:only-of-type {\n",
       "        vertical-align: middle;\n",
       "    }\n",
       "\n",
       "    .dataframe tbody tr th {\n",
       "        vertical-align: top;\n",
       "    }\n",
       "\n",
       "    .dataframe thead th {\n",
       "        text-align: right;\n",
       "    }\n",
       "</style>\n",
       "<table border=\"1\" class=\"dataframe\">\n",
       "  <thead>\n",
       "    <tr style=\"text-align: right;\">\n",
       "      <th></th>\n",
       "      <th>name</th>\n",
       "      <th>id</th>\n",
       "      <th>nametype</th>\n",
       "      <th>recclass</th>\n",
       "      <th>mass (g)</th>\n",
       "      <th>fall</th>\n",
       "      <th>year</th>\n",
       "      <th>latitude</th>\n",
       "      <th>longitude</th>\n",
       "      <th>GeoLocation</th>\n",
       "    </tr>\n",
       "  </thead>\n",
       "  <tbody>\n",
       "    <tr>\n",
       "      <th>0</th>\n",
       "      <td>Aachen</td>\n",
       "      <td>1</td>\n",
       "      <td>Valid</td>\n",
       "      <td>L5</td>\n",
       "      <td>21.0</td>\n",
       "      <td>Fell</td>\n",
       "      <td>1880.0</td>\n",
       "      <td>50.77500</td>\n",
       "      <td>6.08333</td>\n",
       "      <td>(50.775, 6.08333)</td>\n",
       "    </tr>\n",
       "    <tr>\n",
       "      <th>1</th>\n",
       "      <td>Aarhus</td>\n",
       "      <td>2</td>\n",
       "      <td>Valid</td>\n",
       "      <td>H6</td>\n",
       "      <td>720.0</td>\n",
       "      <td>Fell</td>\n",
       "      <td>1951.0</td>\n",
       "      <td>56.18333</td>\n",
       "      <td>10.23333</td>\n",
       "      <td>(56.18333, 10.23333)</td>\n",
       "    </tr>\n",
       "    <tr>\n",
       "      <th>2</th>\n",
       "      <td>Abee</td>\n",
       "      <td>6</td>\n",
       "      <td>Valid</td>\n",
       "      <td>EH4</td>\n",
       "      <td>107000.0</td>\n",
       "      <td>Fell</td>\n",
       "      <td>1952.0</td>\n",
       "      <td>54.21667</td>\n",
       "      <td>-113.00000</td>\n",
       "      <td>(54.21667, -113.0)</td>\n",
       "    </tr>\n",
       "    <tr>\n",
       "      <th>3</th>\n",
       "      <td>Acapulco</td>\n",
       "      <td>10</td>\n",
       "      <td>Valid</td>\n",
       "      <td>Acapulcoite</td>\n",
       "      <td>1914.0</td>\n",
       "      <td>Fell</td>\n",
       "      <td>1976.0</td>\n",
       "      <td>16.88333</td>\n",
       "      <td>-99.90000</td>\n",
       "      <td>(16.88333, -99.9)</td>\n",
       "    </tr>\n",
       "    <tr>\n",
       "      <th>4</th>\n",
       "      <td>Achiras</td>\n",
       "      <td>370</td>\n",
       "      <td>Valid</td>\n",
       "      <td>L6</td>\n",
       "      <td>780.0</td>\n",
       "      <td>Fell</td>\n",
       "      <td>1902.0</td>\n",
       "      <td>-33.16667</td>\n",
       "      <td>-64.95000</td>\n",
       "      <td>(-33.16667, -64.95)</td>\n",
       "    </tr>\n",
       "  </tbody>\n",
       "</table>\n",
       "</div>"
      ],
      "text/plain": [
       "       name   id nametype     recclass  mass (g)  fall    year  latitude  \\\n",
       "0    Aachen    1    Valid           L5      21.0  Fell  1880.0  50.77500   \n",
       "1    Aarhus    2    Valid           H6     720.0  Fell  1951.0  56.18333   \n",
       "2      Abee    6    Valid          EH4  107000.0  Fell  1952.0  54.21667   \n",
       "3  Acapulco   10    Valid  Acapulcoite    1914.0  Fell  1976.0  16.88333   \n",
       "4   Achiras  370    Valid           L6     780.0  Fell  1902.0 -33.16667   \n",
       "\n",
       "   longitude           GeoLocation  \n",
       "0    6.08333     (50.775, 6.08333)  \n",
       "1   10.23333  (56.18333, 10.23333)  \n",
       "2 -113.00000    (54.21667, -113.0)  \n",
       "3  -99.90000     (16.88333, -99.9)  \n",
       "4  -64.95000   (-33.16667, -64.95)  "
      ]
     },
     "execution_count": 11,
     "metadata": {},
     "output_type": "execute_result"
    }
   ],
   "source": [
    "df_meteorite = pd.read_csv('Resources/Meteorite_Landings.csv')\n",
    "df_meteorite.head()"
   ]
  },
  {
   "cell_type": "code",
   "execution_count": 14,
   "id": "7dd353cc",
   "metadata": {},
   "outputs": [],
   "source": [
    "#some rows have missing year values, they need to be dropped\n",
    "df_meteorite_2 = df_meteorite.dropna()"
   ]
  },
  {
   "cell_type": "code",
   "execution_count": 17,
   "id": "842b6914",
   "metadata": {},
   "outputs": [
    {
     "name": "stdout",
     "output_type": "stream",
     "text": [
      "<class 'pandas.core.frame.DataFrame'>\n",
      "Int64Index: 38115 entries, 0 to 45715\n",
      "Data columns (total 11 columns):\n",
      " #   Column       Non-Null Count  Dtype  \n",
      "---  ------       --------------  -----  \n",
      " 0   name         38115 non-null  object \n",
      " 1   id           38115 non-null  int64  \n",
      " 2   nametype     38115 non-null  object \n",
      " 3   recclass     38115 non-null  object \n",
      " 4   mass (g)     38115 non-null  float64\n",
      " 5   fall         38115 non-null  object \n",
      " 6   year         38115 non-null  int64  \n",
      " 7   latitude     38115 non-null  float64\n",
      " 8   longitude    38115 non-null  float64\n",
      " 9   GeoLocation  38115 non-null  object \n",
      " 10  meteorite    38115 non-null  int64  \n",
      "dtypes: float64(3), int64(3), object(5)\n",
      "memory usage: 3.5+ MB\n"
     ]
    }
   ],
   "source": [
    "df_meteorite_2 = df_meteorite_2.astype({'year': int}, errors='raise')\n",
    "df_meteorite_2['meteorite'] = 1\n",
    "df_meteorite_2.info()"
   ]
  },
  {
   "cell_type": "code",
   "execution_count": 19,
   "id": "7fbb0d52",
   "metadata": {},
   "outputs": [
    {
     "name": "stdout",
     "output_type": "stream",
     "text": [
      "(38115, 2)\n"
     ]
    }
   ],
   "source": [
    "df_meteorite_3 = df_meteorite_2[['year', 'meteorite']]\n",
    "print(df_meteorite_3.shape)"
   ]
  },
  {
   "cell_type": "code",
   "execution_count": 28,
   "id": "251ed95d",
   "metadata": {},
   "outputs": [
    {
     "data": {
      "text/plain": [
       "count    38115.000000\n",
       "mean      1989.993913\n",
       "std         25.469892\n",
       "min        860.000000\n",
       "25%       1986.000000\n",
       "50%       1996.000000\n",
       "75%       2002.000000\n",
       "max       2101.000000\n",
       "Name: year, dtype: float64"
      ]
     },
     "execution_count": 28,
     "metadata": {},
     "output_type": "execute_result"
    }
   ],
   "source": [
    "df_meteorite_3['year'].describe()"
   ]
  },
  {
   "cell_type": "code",
   "execution_count": 31,
   "id": "1acc432d",
   "metadata": {},
   "outputs": [
    {
     "name": "stdout",
     "output_type": "stream",
     "text": [
      "(37272, 2)\n"
     ]
    }
   ],
   "source": [
    "#restrict date range to 1910 - 2023\n",
    "df_meteorite_4 = df_meteorite_3.loc[(df_meteorite_3['year']>=1910)&(df_meteorite_3['year']<=2023)]\n",
    "print(df_meteorite_4.shape)"
   ]
  },
  {
   "cell_type": "markdown",
   "id": "a79c2308",
   "metadata": {},
   "source": [
    "### 1.3 Fireball Data"
   ]
  },
  {
   "cell_type": "code",
   "execution_count": 20,
   "id": "5e95e9ec",
   "metadata": {},
   "outputs": [
    {
     "data": {
      "text/html": [
       "<div>\n",
       "<style scoped>\n",
       "    .dataframe tbody tr th:only-of-type {\n",
       "        vertical-align: middle;\n",
       "    }\n",
       "\n",
       "    .dataframe tbody tr th {\n",
       "        vertical-align: top;\n",
       "    }\n",
       "\n",
       "    .dataframe thead th {\n",
       "        text-align: right;\n",
       "    }\n",
       "</style>\n",
       "<table border=\"1\" class=\"dataframe\">\n",
       "  <thead>\n",
       "    <tr style=\"text-align: right;\">\n",
       "      <th></th>\n",
       "      <th>Peak Brightness Date/Time (UT)</th>\n",
       "      <th>Latitude (deg.)</th>\n",
       "      <th>Longitude (deg.)</th>\n",
       "      <th>Altitude (km)</th>\n",
       "      <th>Velocity (km/s)</th>\n",
       "      <th>vx</th>\n",
       "      <th>vy</th>\n",
       "      <th>vz</th>\n",
       "      <th>Total Radiated Energy (J)</th>\n",
       "      <th>Calculated Total Impact Energy (kt)</th>\n",
       "    </tr>\n",
       "  </thead>\n",
       "  <tbody>\n",
       "    <tr>\n",
       "      <th>0</th>\n",
       "      <td>2023-04-01 00:02:03</td>\n",
       "      <td>16.8S</td>\n",
       "      <td>76.0E</td>\n",
       "      <td>61.8</td>\n",
       "      <td>46.4</td>\n",
       "      <td>21.4</td>\n",
       "      <td>-40.6</td>\n",
       "      <td>7.1</td>\n",
       "      <td>2.400000e+10</td>\n",
       "      <td>0.086</td>\n",
       "    </tr>\n",
       "    <tr>\n",
       "      <th>1</th>\n",
       "      <td>2023-03-20 06:53:23</td>\n",
       "      <td>23.7S</td>\n",
       "      <td>132.6E</td>\n",
       "      <td>34.8</td>\n",
       "      <td>NaN</td>\n",
       "      <td>NaN</td>\n",
       "      <td>NaN</td>\n",
       "      <td>NaN</td>\n",
       "      <td>2.700000e+10</td>\n",
       "      <td>0.095</td>\n",
       "    </tr>\n",
       "    <tr>\n",
       "      <th>2</th>\n",
       "      <td>2023-03-11 08:21:28</td>\n",
       "      <td>74.7S</td>\n",
       "      <td>79.5E</td>\n",
       "      <td>32.0</td>\n",
       "      <td>NaN</td>\n",
       "      <td>NaN</td>\n",
       "      <td>NaN</td>\n",
       "      <td>NaN</td>\n",
       "      <td>4.440000e+11</td>\n",
       "      <td>1.100</td>\n",
       "    </tr>\n",
       "    <tr>\n",
       "      <th>3</th>\n",
       "      <td>2023-03-03 02:53:54</td>\n",
       "      <td>40.1N</td>\n",
       "      <td>87.4E</td>\n",
       "      <td>32.0</td>\n",
       "      <td>25.3</td>\n",
       "      <td>16.1</td>\n",
       "      <td>-19.3</td>\n",
       "      <td>2.6</td>\n",
       "      <td>6.400000e+10</td>\n",
       "      <td>0.200</td>\n",
       "    </tr>\n",
       "    <tr>\n",
       "      <th>4</th>\n",
       "      <td>2023-02-19 06:15:34</td>\n",
       "      <td>7.9N</td>\n",
       "      <td>109.9E</td>\n",
       "      <td>37.0</td>\n",
       "      <td>23.0</td>\n",
       "      <td>-1.1</td>\n",
       "      <td>-22.9</td>\n",
       "      <td>1.2</td>\n",
       "      <td>2.030000e+11</td>\n",
       "      <td>0.570</td>\n",
       "    </tr>\n",
       "  </tbody>\n",
       "</table>\n",
       "</div>"
      ],
      "text/plain": [
       "  Peak Brightness Date/Time (UT) Latitude (deg.) Longitude (deg.)  \\\n",
       "0            2023-04-01 00:02:03           16.8S            76.0E   \n",
       "1            2023-03-20 06:53:23           23.7S           132.6E   \n",
       "2            2023-03-11 08:21:28           74.7S            79.5E   \n",
       "3            2023-03-03 02:53:54           40.1N            87.4E   \n",
       "4            2023-02-19 06:15:34            7.9N           109.9E   \n",
       "\n",
       "   Altitude (km)  Velocity (km/s)    vx    vy   vz  Total Radiated Energy (J)  \\\n",
       "0           61.8             46.4  21.4 -40.6  7.1               2.400000e+10   \n",
       "1           34.8              NaN   NaN   NaN  NaN               2.700000e+10   \n",
       "2           32.0              NaN   NaN   NaN  NaN               4.440000e+11   \n",
       "3           32.0             25.3  16.1 -19.3  2.6               6.400000e+10   \n",
       "4           37.0             23.0  -1.1 -22.9  1.2               2.030000e+11   \n",
       "\n",
       "   Calculated Total Impact Energy (kt)  \n",
       "0                                0.086  \n",
       "1                                0.095  \n",
       "2                                1.100  \n",
       "3                                0.200  \n",
       "4                                0.570  "
      ]
     },
     "execution_count": 20,
     "metadata": {},
     "output_type": "execute_result"
    }
   ],
   "source": [
    "df_fireball = pd.read_csv('Resources/Longer_Fireball_Data.csv')\n",
    "df_fireball.head()"
   ]
  },
  {
   "cell_type": "code",
   "execution_count": 22,
   "id": "8a9dec12",
   "metadata": {},
   "outputs": [
    {
     "name": "stdout",
     "output_type": "stream",
     "text": [
      "<class 'pandas.core.frame.DataFrame'>\n",
      "RangeIndex: 951 entries, 0 to 950\n",
      "Data columns (total 10 columns):\n",
      " #   Column                               Non-Null Count  Dtype         \n",
      "---  ------                               --------------  -----         \n",
      " 0   Peak Brightness Date/Time (UT)       951 non-null    datetime64[ns]\n",
      " 1   Latitude (deg.)                      761 non-null    object        \n",
      " 2   Longitude (deg.)                     761 non-null    object        \n",
      " 3   Altitude (km)                        493 non-null    float64       \n",
      " 4   Velocity (km/s)                      288 non-null    float64       \n",
      " 5   vx                                   288 non-null    float64       \n",
      " 6   vy                                   288 non-null    float64       \n",
      " 7   vz                                   288 non-null    float64       \n",
      " 8   Total Radiated Energy (J)            951 non-null    float64       \n",
      " 9   Calculated Total Impact Energy (kt)  951 non-null    float64       \n",
      "dtypes: datetime64[ns](1), float64(7), object(2)\n",
      "memory usage: 74.4+ KB\n"
     ]
    }
   ],
   "source": [
    "df_fireball['Peak Brightness Date/Time (UT)'] = pd.to_datetime(df_fireball['Peak Brightness Date/Time (UT)'])\n",
    "df_fireball.info()"
   ]
  },
  {
   "cell_type": "code",
   "execution_count": 24,
   "id": "61fb1e6d",
   "metadata": {},
   "outputs": [
    {
     "data": {
      "text/html": [
       "<div>\n",
       "<style scoped>\n",
       "    .dataframe tbody tr th:only-of-type {\n",
       "        vertical-align: middle;\n",
       "    }\n",
       "\n",
       "    .dataframe tbody tr th {\n",
       "        vertical-align: top;\n",
       "    }\n",
       "\n",
       "    .dataframe thead th {\n",
       "        text-align: right;\n",
       "    }\n",
       "</style>\n",
       "<table border=\"1\" class=\"dataframe\">\n",
       "  <thead>\n",
       "    <tr style=\"text-align: right;\">\n",
       "      <th></th>\n",
       "      <th>Peak Brightness Date/Time (UT)</th>\n",
       "      <th>Latitude (deg.)</th>\n",
       "      <th>Longitude (deg.)</th>\n",
       "      <th>Altitude (km)</th>\n",
       "      <th>Velocity (km/s)</th>\n",
       "      <th>vx</th>\n",
       "      <th>vy</th>\n",
       "      <th>vz</th>\n",
       "      <th>Total Radiated Energy (J)</th>\n",
       "      <th>Calculated Total Impact Energy (kt)</th>\n",
       "      <th>year</th>\n",
       "      <th>fireball</th>\n",
       "    </tr>\n",
       "  </thead>\n",
       "  <tbody>\n",
       "    <tr>\n",
       "      <th>0</th>\n",
       "      <td>2023-04-01 00:02:03</td>\n",
       "      <td>16.8S</td>\n",
       "      <td>76.0E</td>\n",
       "      <td>61.8</td>\n",
       "      <td>46.4</td>\n",
       "      <td>21.4</td>\n",
       "      <td>-40.6</td>\n",
       "      <td>7.1</td>\n",
       "      <td>2.400000e+10</td>\n",
       "      <td>0.086</td>\n",
       "      <td>2023</td>\n",
       "      <td>1</td>\n",
       "    </tr>\n",
       "    <tr>\n",
       "      <th>1</th>\n",
       "      <td>2023-03-20 06:53:23</td>\n",
       "      <td>23.7S</td>\n",
       "      <td>132.6E</td>\n",
       "      <td>34.8</td>\n",
       "      <td>NaN</td>\n",
       "      <td>NaN</td>\n",
       "      <td>NaN</td>\n",
       "      <td>NaN</td>\n",
       "      <td>2.700000e+10</td>\n",
       "      <td>0.095</td>\n",
       "      <td>2023</td>\n",
       "      <td>1</td>\n",
       "    </tr>\n",
       "    <tr>\n",
       "      <th>2</th>\n",
       "      <td>2023-03-11 08:21:28</td>\n",
       "      <td>74.7S</td>\n",
       "      <td>79.5E</td>\n",
       "      <td>32.0</td>\n",
       "      <td>NaN</td>\n",
       "      <td>NaN</td>\n",
       "      <td>NaN</td>\n",
       "      <td>NaN</td>\n",
       "      <td>4.440000e+11</td>\n",
       "      <td>1.100</td>\n",
       "      <td>2023</td>\n",
       "      <td>1</td>\n",
       "    </tr>\n",
       "    <tr>\n",
       "      <th>3</th>\n",
       "      <td>2023-03-03 02:53:54</td>\n",
       "      <td>40.1N</td>\n",
       "      <td>87.4E</td>\n",
       "      <td>32.0</td>\n",
       "      <td>25.3</td>\n",
       "      <td>16.1</td>\n",
       "      <td>-19.3</td>\n",
       "      <td>2.6</td>\n",
       "      <td>6.400000e+10</td>\n",
       "      <td>0.200</td>\n",
       "      <td>2023</td>\n",
       "      <td>1</td>\n",
       "    </tr>\n",
       "    <tr>\n",
       "      <th>4</th>\n",
       "      <td>2023-02-19 06:15:34</td>\n",
       "      <td>7.9N</td>\n",
       "      <td>109.9E</td>\n",
       "      <td>37.0</td>\n",
       "      <td>23.0</td>\n",
       "      <td>-1.1</td>\n",
       "      <td>-22.9</td>\n",
       "      <td>1.2</td>\n",
       "      <td>2.030000e+11</td>\n",
       "      <td>0.570</td>\n",
       "      <td>2023</td>\n",
       "      <td>1</td>\n",
       "    </tr>\n",
       "  </tbody>\n",
       "</table>\n",
       "</div>"
      ],
      "text/plain": [
       "  Peak Brightness Date/Time (UT) Latitude (deg.) Longitude (deg.)  \\\n",
       "0            2023-04-01 00:02:03           16.8S            76.0E   \n",
       "1            2023-03-20 06:53:23           23.7S           132.6E   \n",
       "2            2023-03-11 08:21:28           74.7S            79.5E   \n",
       "3            2023-03-03 02:53:54           40.1N            87.4E   \n",
       "4            2023-02-19 06:15:34            7.9N           109.9E   \n",
       "\n",
       "   Altitude (km)  Velocity (km/s)    vx    vy   vz  Total Radiated Energy (J)  \\\n",
       "0           61.8             46.4  21.4 -40.6  7.1               2.400000e+10   \n",
       "1           34.8              NaN   NaN   NaN  NaN               2.700000e+10   \n",
       "2           32.0              NaN   NaN   NaN  NaN               4.440000e+11   \n",
       "3           32.0             25.3  16.1 -19.3  2.6               6.400000e+10   \n",
       "4           37.0             23.0  -1.1 -22.9  1.2               2.030000e+11   \n",
       "\n",
       "   Calculated Total Impact Energy (kt)  year  fireball  \n",
       "0                                0.086  2023         1  \n",
       "1                                0.095  2023         1  \n",
       "2                                1.100  2023         1  \n",
       "3                                0.200  2023         1  \n",
       "4                                0.570  2023         1  "
      ]
     },
     "execution_count": 24,
     "metadata": {},
     "output_type": "execute_result"
    }
   ],
   "source": [
    "df_fireball['year'] = pd.DatetimeIndex(df_fireball['Peak Brightness Date/Time (UT)']).year\n",
    "df_fireball['fireball'] = 1\n",
    "df_fireball.head()"
   ]
  },
  {
   "cell_type": "code",
   "execution_count": 26,
   "id": "65720d4f",
   "metadata": {},
   "outputs": [
    {
     "name": "stdout",
     "output_type": "stream",
     "text": [
      "(951, 2)\n"
     ]
    }
   ],
   "source": [
    "df_fireball_2 = df_fireball[['year', 'fireball']]\n",
    "print(df_fireball_2.shape)"
   ]
  },
  {
   "cell_type": "code",
   "execution_count": 27,
   "id": "a17152f7",
   "metadata": {},
   "outputs": [
    {
     "data": {
      "text/plain": [
       "count     951.000000\n",
       "mean     2009.319664\n",
       "std         8.212623\n",
       "min      1988.000000\n",
       "25%      2003.000000\n",
       "50%      2009.000000\n",
       "75%      2016.000000\n",
       "max      2023.000000\n",
       "Name: year, dtype: float64"
      ]
     },
     "execution_count": 27,
     "metadata": {},
     "output_type": "execute_result"
    }
   ],
   "source": [
    "df_fireball_2['year'].describe()"
   ]
  },
  {
   "cell_type": "markdown",
   "id": "5dc33658",
   "metadata": {},
   "source": [
    "# 2. Create Year Array (1910 - 2023)"
   ]
  },
  {
   "cell_type": "code",
   "execution_count": 32,
   "id": "2a9cf9f8",
   "metadata": {},
   "outputs": [],
   "source": [
    "years = []\n",
    "x = 1910\n",
    "while x < 2024:\n",
    "    years.append(x)\n",
    "    x +=1"
   ]
  },
  {
   "cell_type": "code",
   "execution_count": 38,
   "id": "c2f8b7c0",
   "metadata": {},
   "outputs": [
    {
     "data": {
      "text/html": [
       "<div>\n",
       "<style scoped>\n",
       "    .dataframe tbody tr th:only-of-type {\n",
       "        vertical-align: middle;\n",
       "    }\n",
       "\n",
       "    .dataframe tbody tr th {\n",
       "        vertical-align: top;\n",
       "    }\n",
       "\n",
       "    .dataframe thead th {\n",
       "        text-align: right;\n",
       "    }\n",
       "</style>\n",
       "<table border=\"1\" class=\"dataframe\">\n",
       "  <thead>\n",
       "    <tr style=\"text-align: right;\">\n",
       "      <th></th>\n",
       "      <th>year</th>\n",
       "    </tr>\n",
       "  </thead>\n",
       "  <tbody>\n",
       "    <tr>\n",
       "      <th>0</th>\n",
       "      <td>1910</td>\n",
       "    </tr>\n",
       "    <tr>\n",
       "      <th>1</th>\n",
       "      <td>1911</td>\n",
       "    </tr>\n",
       "    <tr>\n",
       "      <th>2</th>\n",
       "      <td>1912</td>\n",
       "    </tr>\n",
       "    <tr>\n",
       "      <th>3</th>\n",
       "      <td>1913</td>\n",
       "    </tr>\n",
       "    <tr>\n",
       "      <th>4</th>\n",
       "      <td>1914</td>\n",
       "    </tr>\n",
       "  </tbody>\n",
       "</table>\n",
       "</div>"
      ],
      "text/plain": [
       "   year\n",
       "0  1910\n",
       "1  1911\n",
       "2  1912\n",
       "3  1913\n",
       "4  1914"
      ]
     },
     "execution_count": 38,
     "metadata": {},
     "output_type": "execute_result"
    }
   ],
   "source": [
    "df_years = pd.DataFrame(years)\n",
    "df_years = df_years.rename(columns={0:'year'})\n",
    "df_years.head()"
   ]
  },
  {
   "cell_type": "markdown",
   "id": "e2d9e984",
   "metadata": {},
   "source": [
    "# 3. Sighting Counts by Year"
   ]
  },
  {
   "cell_type": "markdown",
   "id": "e72a4219",
   "metadata": {},
   "source": [
    "### 3.1 UFO"
   ]
  },
  {
   "cell_type": "code",
   "execution_count": 44,
   "id": "5ad56567",
   "metadata": {},
   "outputs": [
    {
     "data": {
      "text/html": [
       "<div>\n",
       "<style scoped>\n",
       "    .dataframe tbody tr th:only-of-type {\n",
       "        vertical-align: middle;\n",
       "    }\n",
       "\n",
       "    .dataframe tbody tr th {\n",
       "        vertical-align: top;\n",
       "    }\n",
       "\n",
       "    .dataframe thead th {\n",
       "        text-align: right;\n",
       "    }\n",
       "</style>\n",
       "<table border=\"1\" class=\"dataframe\">\n",
       "  <thead>\n",
       "    <tr style=\"text-align: right;\">\n",
       "      <th></th>\n",
       "      <th>year</th>\n",
       "      <th>ufo</th>\n",
       "    </tr>\n",
       "  </thead>\n",
       "  <tbody>\n",
       "    <tr>\n",
       "      <th>0</th>\n",
       "      <td>1910</td>\n",
       "      <td>2</td>\n",
       "    </tr>\n",
       "    <tr>\n",
       "      <th>1</th>\n",
       "      <td>1920</td>\n",
       "      <td>1</td>\n",
       "    </tr>\n",
       "    <tr>\n",
       "      <th>2</th>\n",
       "      <td>1925</td>\n",
       "      <td>1</td>\n",
       "    </tr>\n",
       "    <tr>\n",
       "      <th>3</th>\n",
       "      <td>1929</td>\n",
       "      <td>1</td>\n",
       "    </tr>\n",
       "    <tr>\n",
       "      <th>4</th>\n",
       "      <td>1930</td>\n",
       "      <td>1</td>\n",
       "    </tr>\n",
       "  </tbody>\n",
       "</table>\n",
       "</div>"
      ],
      "text/plain": [
       "   year  ufo\n",
       "0  1910    2\n",
       "1  1920    1\n",
       "2  1925    1\n",
       "3  1929    1\n",
       "4  1930    1"
      ]
     },
     "execution_count": 44,
     "metadata": {},
     "output_type": "execute_result"
    }
   ],
   "source": [
    "df_ufo_by_year = df_ufo_2.groupby('year').sum().reset_index()\n",
    "df_ufo_by_year = df_ufo_by_year.sort_values('year', ascending = True)\n",
    "df_ufo_by_year.head()"
   ]
  },
  {
   "cell_type": "code",
   "execution_count": 46,
   "id": "e317d8f8",
   "metadata": {},
   "outputs": [],
   "source": [
    "df_ufo_by_year = df_ufo_by_year.rename(columns={'ufo':'ufo_sightings'})"
   ]
  },
  {
   "cell_type": "markdown",
   "id": "f516e97c",
   "metadata": {},
   "source": [
    "### 3.2 Meteorite"
   ]
  },
  {
   "cell_type": "code",
   "execution_count": 45,
   "id": "ff66399f",
   "metadata": {},
   "outputs": [
    {
     "data": {
      "text/html": [
       "<div>\n",
       "<style scoped>\n",
       "    .dataframe tbody tr th:only-of-type {\n",
       "        vertical-align: middle;\n",
       "    }\n",
       "\n",
       "    .dataframe tbody tr th {\n",
       "        vertical-align: top;\n",
       "    }\n",
       "\n",
       "    .dataframe thead th {\n",
       "        text-align: right;\n",
       "    }\n",
       "</style>\n",
       "<table border=\"1\" class=\"dataframe\">\n",
       "  <thead>\n",
       "    <tr style=\"text-align: right;\">\n",
       "      <th></th>\n",
       "      <th>year</th>\n",
       "      <th>meteorite</th>\n",
       "    </tr>\n",
       "  </thead>\n",
       "  <tbody>\n",
       "    <tr>\n",
       "      <th>0</th>\n",
       "      <td>1910</td>\n",
       "      <td>19</td>\n",
       "    </tr>\n",
       "    <tr>\n",
       "      <th>1</th>\n",
       "      <td>1911</td>\n",
       "      <td>11</td>\n",
       "    </tr>\n",
       "    <tr>\n",
       "      <th>2</th>\n",
       "      <td>1912</td>\n",
       "      <td>12</td>\n",
       "    </tr>\n",
       "    <tr>\n",
       "      <th>3</th>\n",
       "      <td>1913</td>\n",
       "      <td>11</td>\n",
       "    </tr>\n",
       "    <tr>\n",
       "      <th>4</th>\n",
       "      <td>1914</td>\n",
       "      <td>18</td>\n",
       "    </tr>\n",
       "  </tbody>\n",
       "</table>\n",
       "</div>"
      ],
      "text/plain": [
       "   year  meteorite\n",
       "0  1910         19\n",
       "1  1911         11\n",
       "2  1912         12\n",
       "3  1913         11\n",
       "4  1914         18"
      ]
     },
     "execution_count": 45,
     "metadata": {},
     "output_type": "execute_result"
    }
   ],
   "source": [
    "df_meteorite_by_year = df_meteorite_4.groupby('year').sum().reset_index()\n",
    "df_meteorite_by_year = df_meteorite_by_year.sort_values('year', ascending = True)\n",
    "df_meteorite_by_year.head()"
   ]
  },
  {
   "cell_type": "code",
   "execution_count": 47,
   "id": "64e4eb4d",
   "metadata": {},
   "outputs": [],
   "source": [
    "df_meteorite_by_year = df_meteorite_by_year.rename(columns={'meteorite':'meteorite_sightings'})"
   ]
  },
  {
   "cell_type": "markdown",
   "id": "ab445550",
   "metadata": {},
   "source": [
    "### 3.3 Fireball"
   ]
  },
  {
   "cell_type": "code",
   "execution_count": 48,
   "id": "3d795088",
   "metadata": {},
   "outputs": [
    {
     "data": {
      "text/html": [
       "<div>\n",
       "<style scoped>\n",
       "    .dataframe tbody tr th:only-of-type {\n",
       "        vertical-align: middle;\n",
       "    }\n",
       "\n",
       "    .dataframe tbody tr th {\n",
       "        vertical-align: top;\n",
       "    }\n",
       "\n",
       "    .dataframe thead th {\n",
       "        text-align: right;\n",
       "    }\n",
       "</style>\n",
       "<table border=\"1\" class=\"dataframe\">\n",
       "  <thead>\n",
       "    <tr style=\"text-align: right;\">\n",
       "      <th></th>\n",
       "      <th>year</th>\n",
       "      <th>fireball</th>\n",
       "    </tr>\n",
       "  </thead>\n",
       "  <tbody>\n",
       "    <tr>\n",
       "      <th>0</th>\n",
       "      <td>1988</td>\n",
       "      <td>1</td>\n",
       "    </tr>\n",
       "    <tr>\n",
       "      <th>1</th>\n",
       "      <td>1990</td>\n",
       "      <td>1</td>\n",
       "    </tr>\n",
       "    <tr>\n",
       "      <th>2</th>\n",
       "      <td>1991</td>\n",
       "      <td>1</td>\n",
       "    </tr>\n",
       "    <tr>\n",
       "      <th>3</th>\n",
       "      <td>1993</td>\n",
       "      <td>2</td>\n",
       "    </tr>\n",
       "    <tr>\n",
       "      <th>4</th>\n",
       "      <td>1994</td>\n",
       "      <td>13</td>\n",
       "    </tr>\n",
       "  </tbody>\n",
       "</table>\n",
       "</div>"
      ],
      "text/plain": [
       "   year  fireball\n",
       "0  1988         1\n",
       "1  1990         1\n",
       "2  1991         1\n",
       "3  1993         2\n",
       "4  1994        13"
      ]
     },
     "execution_count": 48,
     "metadata": {},
     "output_type": "execute_result"
    }
   ],
   "source": [
    "df_fireball_by_year = df_fireball_2.groupby('year').sum().reset_index()\n",
    "df_fireball_by_year = df_fireball_by_year.sort_values('year', ascending = True)\n",
    "df_fireball_by_year.head()"
   ]
  },
  {
   "cell_type": "code",
   "execution_count": 49,
   "id": "2259053e",
   "metadata": {},
   "outputs": [],
   "source": [
    "df_fireball_by_year = df_fireball_by_year.rename(columns={'fireball':'fireball_sightings'})"
   ]
  },
  {
   "cell_type": "markdown",
   "id": "a4216cf9",
   "metadata": {},
   "source": [
    "# 4. Join to Years"
   ]
  },
  {
   "cell_type": "code",
   "execution_count": 51,
   "id": "9daaa488",
   "metadata": {},
   "outputs": [
    {
     "data": {
      "text/html": [
       "<div>\n",
       "<style scoped>\n",
       "    .dataframe tbody tr th:only-of-type {\n",
       "        vertical-align: middle;\n",
       "    }\n",
       "\n",
       "    .dataframe tbody tr th {\n",
       "        vertical-align: top;\n",
       "    }\n",
       "\n",
       "    .dataframe thead th {\n",
       "        text-align: right;\n",
       "    }\n",
       "</style>\n",
       "<table border=\"1\" class=\"dataframe\">\n",
       "  <thead>\n",
       "    <tr style=\"text-align: right;\">\n",
       "      <th></th>\n",
       "      <th>year</th>\n",
       "      <th>ufo_sightings</th>\n",
       "      <th>meteorite_sightings</th>\n",
       "      <th>fireball_sightings</th>\n",
       "    </tr>\n",
       "  </thead>\n",
       "  <tbody>\n",
       "    <tr>\n",
       "      <th>0</th>\n",
       "      <td>1910</td>\n",
       "      <td>2.0</td>\n",
       "      <td>19.0</td>\n",
       "      <td>NaN</td>\n",
       "    </tr>\n",
       "    <tr>\n",
       "      <th>1</th>\n",
       "      <td>1911</td>\n",
       "      <td>NaN</td>\n",
       "      <td>11.0</td>\n",
       "      <td>NaN</td>\n",
       "    </tr>\n",
       "    <tr>\n",
       "      <th>2</th>\n",
       "      <td>1912</td>\n",
       "      <td>NaN</td>\n",
       "      <td>12.0</td>\n",
       "      <td>NaN</td>\n",
       "    </tr>\n",
       "    <tr>\n",
       "      <th>3</th>\n",
       "      <td>1913</td>\n",
       "      <td>NaN</td>\n",
       "      <td>11.0</td>\n",
       "      <td>NaN</td>\n",
       "    </tr>\n",
       "    <tr>\n",
       "      <th>4</th>\n",
       "      <td>1914</td>\n",
       "      <td>NaN</td>\n",
       "      <td>18.0</td>\n",
       "      <td>NaN</td>\n",
       "    </tr>\n",
       "  </tbody>\n",
       "</table>\n",
       "</div>"
      ],
      "text/plain": [
       "   year  ufo_sightings  meteorite_sightings  fireball_sightings\n",
       "0  1910            2.0                 19.0                 NaN\n",
       "1  1911            NaN                 11.0                 NaN\n",
       "2  1912            NaN                 12.0                 NaN\n",
       "3  1913            NaN                 11.0                 NaN\n",
       "4  1914            NaN                 18.0                 NaN"
      ]
     },
     "execution_count": 51,
     "metadata": {},
     "output_type": "execute_result"
    }
   ],
   "source": [
    "df_all = pd.merge(df_years, df_ufo_by_year, how='left')\n",
    "df_all = pd.merge(df_all, df_meteorite_by_year, how='left')\n",
    "df_all = pd.merge(df_all, df_fireball_by_year, how='left')\n",
    "df_all.head()"
   ]
  },
  {
   "cell_type": "code",
   "execution_count": 52,
   "id": "a0dc4ef1",
   "metadata": {},
   "outputs": [
    {
     "data": {
      "text/html": [
       "<div>\n",
       "<style scoped>\n",
       "    .dataframe tbody tr th:only-of-type {\n",
       "        vertical-align: middle;\n",
       "    }\n",
       "\n",
       "    .dataframe tbody tr th {\n",
       "        vertical-align: top;\n",
       "    }\n",
       "\n",
       "    .dataframe thead th {\n",
       "        text-align: right;\n",
       "    }\n",
       "</style>\n",
       "<table border=\"1\" class=\"dataframe\">\n",
       "  <thead>\n",
       "    <tr style=\"text-align: right;\">\n",
       "      <th></th>\n",
       "      <th>year</th>\n",
       "      <th>ufo_sightings</th>\n",
       "      <th>meteorite_sightings</th>\n",
       "      <th>fireball_sightings</th>\n",
       "    </tr>\n",
       "  </thead>\n",
       "  <tbody>\n",
       "    <tr>\n",
       "      <th>0</th>\n",
       "      <td>1910</td>\n",
       "      <td>2.0</td>\n",
       "      <td>19.0</td>\n",
       "      <td>0.0</td>\n",
       "    </tr>\n",
       "    <tr>\n",
       "      <th>1</th>\n",
       "      <td>1911</td>\n",
       "      <td>0.0</td>\n",
       "      <td>11.0</td>\n",
       "      <td>0.0</td>\n",
       "    </tr>\n",
       "    <tr>\n",
       "      <th>2</th>\n",
       "      <td>1912</td>\n",
       "      <td>0.0</td>\n",
       "      <td>12.0</td>\n",
       "      <td>0.0</td>\n",
       "    </tr>\n",
       "    <tr>\n",
       "      <th>3</th>\n",
       "      <td>1913</td>\n",
       "      <td>0.0</td>\n",
       "      <td>11.0</td>\n",
       "      <td>0.0</td>\n",
       "    </tr>\n",
       "    <tr>\n",
       "      <th>4</th>\n",
       "      <td>1914</td>\n",
       "      <td>0.0</td>\n",
       "      <td>18.0</td>\n",
       "      <td>0.0</td>\n",
       "    </tr>\n",
       "  </tbody>\n",
       "</table>\n",
       "</div>"
      ],
      "text/plain": [
       "   year  ufo_sightings  meteorite_sightings  fireball_sightings\n",
       "0  1910            2.0                 19.0                 0.0\n",
       "1  1911            0.0                 11.0                 0.0\n",
       "2  1912            0.0                 12.0                 0.0\n",
       "3  1913            0.0                 11.0                 0.0\n",
       "4  1914            0.0                 18.0                 0.0"
      ]
     },
     "execution_count": 52,
     "metadata": {},
     "output_type": "execute_result"
    }
   ],
   "source": [
    "df_all['ufo_sightings'] = np.where(df_all['ufo_sightings'].isna(), 0, df_all['ufo_sightings'])\n",
    "df_all['meteorite_sightings'] = np.where(df_all['meteorite_sightings'].isna(), 0, df_all['meteorite_sightings'])\n",
    "df_all['fireball_sightings'] = np.where(df_all['fireball_sightings'].isna(), 0, df_all['fireball_sightings'])\n",
    "df_all.head()"
   ]
  },
  {
   "cell_type": "code",
   "execution_count": 56,
   "id": "456df9fe",
   "metadata": {},
   "outputs": [
    {
     "data": {
      "image/png": "[encoded data removed]",
      "text/plain": [
       "<Figure size 640x480 with 1 Axes>"
      ]
     },
     "metadata": {},
     "output_type": "display_data"
    }
   ],
   "source": [
    "plt.plot(df_all['year'], df_all['ufo_sightings'], color=\"green\", label='UFO Sightings')\n",
    "plt.plot(df_all['year'], df_all['meteorite_sightings'], color=\"red\", label='Meteorite Sightings')\n",
    "plt.plot(df_all['year'], df_all['fireball_sightings'], color=\"blue\", label='Fireball Sightings')\n",
    "\n",
    "plt.xlabel('Year')\n",
    "plt.ylabel('Number of Sightings')\n",
    "plt.title('Sightings by Year (1910-2023)')\n",
    "\n",
    "plt.legend()\n",
    "plt.show()"
   ]
  },
  {
   "cell_type": "code",
   "execution_count": 57,
   "id": "211a2e4c",
   "metadata": {},
   "outputs": [],
   "source": [
    "df_all.to_json('Resources/sightings_by_year.json', orient='index')"
   ]
  }
 ],
 "metadata": {
  "kernelspec": {
   "display_name": "Python 3 (ipykernel)",
   "language": "python",
   "name": "python3"
  },
  "language_info": {
   "codemirror_mode": {
    "name": "ipython",
    "version": 3
   },
   "file_extension": ".py",
   "mimetype": "text/x-python",
   "name": "python",
   "nbconvert_exporter": "python",
   "pygments_lexer": "ipython3",
   "version": "3.9.13"
  }
 },
 "nbformat": 4,
 "nbformat_minor": 5
}

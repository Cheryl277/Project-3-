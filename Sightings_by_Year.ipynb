{
 "cells": [
  {
   "cell_type": "code",
   "execution_count": 2,
   "id": "81ab10ed",
   "metadata": {},
   "outputs": [],
   "source": [
    "import pandas as pd\n",
    "import numpy as np\n",
    "import datetime as dt\n",
    "import matplotlib.pyplot as plt"
   ]
  },
  {
   "cell_type": "markdown",
   "id": "2e01b972",
   "metadata": {},
   "source": [
    "# 1. Import Data"
   ]
  },
  {
   "cell_type": "markdown",
   "id": "f5080ab9",
   "metadata": {},
   "source": [
    "### 1.1 UFO Data"
   ]
  },
  {
   "cell_type": "code",
   "execution_count": 3,
   "id": "e4a5dfba",
   "metadata": {},
   "outputs": [
    {
     "data": {
      "text/html": [
       "<div>\n",
       "<style scoped>\n",
       "    .dataframe tbody tr th:only-of-type {\n",
       "        vertical-align: middle;\n",
       "    }\n",
       "\n",
       "    .dataframe tbody tr th {\n",
       "        vertical-align: top;\n",
       "    }\n",
       "\n",
       "    .dataframe thead th {\n",
       "        text-align: right;\n",
       "    }\n",
       "</style>\n",
       "<table border=\"1\" class=\"dataframe\">\n",
       "  <thead>\n",
       "    <tr style=\"text-align: right;\">\n",
       "      <th></th>\n",
       "      <th>datetime</th>\n",
       "      <th>city</th>\n",
       "      <th>state</th>\n",
       "      <th>country</th>\n",
       "      <th>shape</th>\n",
       "      <th>duration (seconds)</th>\n",
       "      <th>duration (hours/min)</th>\n",
       "      <th>comments</th>\n",
       "      <th>date posted</th>\n",
       "      <th>latitude</th>\n",
       "      <th>longitude</th>\n",
       "    </tr>\n",
       "  </thead>\n",
       "  <tbody>\n",
       "    <tr>\n",
       "      <th>0</th>\n",
       "      <td>10/10/1949 20:30</td>\n",
       "      <td>san marcos</td>\n",
       "      <td>tx</td>\n",
       "      <td>us</td>\n",
       "      <td>cylinder</td>\n",
       "      <td>2700</td>\n",
       "      <td>45 minutes</td>\n",
       "      <td>This event took place in early fall around 194...</td>\n",
       "      <td>4/27/2004</td>\n",
       "      <td>29.8830556</td>\n",
       "      <td>-97.941111</td>\n",
       "    </tr>\n",
       "    <tr>\n",
       "      <th>1</th>\n",
       "      <td>10/10/1949 21:00</td>\n",
       "      <td>lackland afb</td>\n",
       "      <td>tx</td>\n",
       "      <td>NaN</td>\n",
       "      <td>light</td>\n",
       "      <td>7200</td>\n",
       "      <td>1-2 hrs</td>\n",
       "      <td>1949 Lackland AFB&amp;#44 TX.  Lights racing acros...</td>\n",
       "      <td>12/16/2005</td>\n",
       "      <td>29.38421</td>\n",
       "      <td>-98.581082</td>\n",
       "    </tr>\n",
       "    <tr>\n",
       "      <th>2</th>\n",
       "      <td>10/10/1955 17:00</td>\n",
       "      <td>chester (uk/england)</td>\n",
       "      <td>NaN</td>\n",
       "      <td>gb</td>\n",
       "      <td>circle</td>\n",
       "      <td>20</td>\n",
       "      <td>20 seconds</td>\n",
       "      <td>Green/Orange circular disc over Chester&amp;#44 En...</td>\n",
       "      <td>1/21/2008</td>\n",
       "      <td>53.2</td>\n",
       "      <td>-2.916667</td>\n",
       "    </tr>\n",
       "    <tr>\n",
       "      <th>3</th>\n",
       "      <td>10/10/1956 21:00</td>\n",
       "      <td>edna</td>\n",
       "      <td>tx</td>\n",
       "      <td>us</td>\n",
       "      <td>circle</td>\n",
       "      <td>20</td>\n",
       "      <td>1/2 hour</td>\n",
       "      <td>My older brother and twin sister were leaving ...</td>\n",
       "      <td>1/17/2004</td>\n",
       "      <td>28.9783333</td>\n",
       "      <td>-96.645833</td>\n",
       "    </tr>\n",
       "    <tr>\n",
       "      <th>4</th>\n",
       "      <td>10/10/1960 20:00</td>\n",
       "      <td>kaneohe</td>\n",
       "      <td>hi</td>\n",
       "      <td>us</td>\n",
       "      <td>light</td>\n",
       "      <td>900</td>\n",
       "      <td>15 minutes</td>\n",
       "      <td>AS a Marine 1st Lt. flying an FJ4B fighter/att...</td>\n",
       "      <td>1/22/2004</td>\n",
       "      <td>21.4180556</td>\n",
       "      <td>-157.803611</td>\n",
       "    </tr>\n",
       "  </tbody>\n",
       "</table>\n",
       "</div>"
      ],
      "text/plain": [
       "           datetime                  city state country     shape  \\\n",
       "0  10/10/1949 20:30            san marcos    tx      us  cylinder   \n",
       "1  10/10/1949 21:00          lackland afb    tx     NaN     light   \n",
       "2  10/10/1955 17:00  chester (uk/england)   NaN      gb    circle   \n",
       "3  10/10/1956 21:00                  edna    tx      us    circle   \n",
       "4  10/10/1960 20:00               kaneohe    hi      us     light   \n",
       "\n",
       "  duration (seconds) duration (hours/min)  \\\n",
       "0               2700           45 minutes   \n",
       "1               7200              1-2 hrs   \n",
       "2                 20           20 seconds   \n",
       "3                 20             1/2 hour   \n",
       "4                900           15 minutes   \n",
       "\n",
       "                                            comments date posted    latitude  \\\n",
       "0  This event took place in early fall around 194...   4/27/2004  29.8830556   \n",
       "1  1949 Lackland AFB&#44 TX.  Lights racing acros...  12/16/2005    29.38421   \n",
       "2  Green/Orange circular disc over Chester&#44 En...   1/21/2008        53.2   \n",
       "3  My older brother and twin sister were leaving ...   1/17/2004  28.9783333   \n",
       "4  AS a Marine 1st Lt. flying an FJ4B fighter/att...   1/22/2004  21.4180556   \n",
       "\n",
       "    longitude  \n",
       "0  -97.941111  \n",
       "1  -98.581082  \n",
       "2   -2.916667  \n",
       "3  -96.645833  \n",
       "4 -157.803611  "
      ]
     },
     "execution_count": 3,
     "metadata": {},
     "output_type": "execute_result"
    }
   ],
   "source": [
    "df_ufo = pd.read_csv('Resources/ufo_data.csv', on_bad_lines='skip', low_memory=False)\n",
    "df_ufo.head()"
   ]
  },
  {
   "cell_type": "code",
   "execution_count": 4,
   "id": "1e9c818e",
   "metadata": {},
   "outputs": [],
   "source": [
    "df_ufo[['date','time']] = df_ufo['datetime'].str.split(expand=True)\n",
    "df_ufo['datetime'] = (pd.to_datetime(df_ufo.pop('date'), format='%m/%d/%Y') + \n",
    "                  pd.to_timedelta(df_ufo.pop('time') + ':00'))"
   ]
  },
  {
   "cell_type": "code",
   "execution_count": 5,
   "id": "5969c37e",
   "metadata": {},
   "outputs": [
    {
     "name": "stdout",
     "output_type": "stream",
     "text": [
      "<class 'pandas.core.frame.DataFrame'>\n",
      "RangeIndex: 88679 entries, 0 to 88678\n",
      "Data columns (total 12 columns):\n",
      " #   Column                Non-Null Count  Dtype         \n",
      "---  ------                --------------  -----         \n",
      " 0   datetime              88679 non-null  datetime64[ns]\n",
      " 1   city                  88679 non-null  object        \n",
      " 2   state                 81270 non-null  object        \n",
      " 3   country               76314 non-null  object        \n",
      " 4   shape                 85757 non-null  object        \n",
      " 5   duration (seconds)    88677 non-null  object        \n",
      " 6   duration (hours/min)  85660 non-null  object        \n",
      " 7   comments              88644 non-null  object        \n",
      " 8   date posted           88679 non-null  object        \n",
      " 9   latitude              88679 non-null  object        \n",
      " 10  longitude             88679 non-null  float64       \n",
      " 11  ufo                   88679 non-null  int64         \n",
      "dtypes: datetime64[ns](1), float64(1), int64(1), object(9)\n",
      "memory usage: 8.1+ MB\n"
     ]
    }
   ],
   "source": [
    "df_ufo['ufo'] = 1\n",
    "df_ufo.info()"
   ]
  },
  {
   "cell_type": "code",
   "execution_count": 6,
   "id": "94c52a0d",
   "metadata": {},
   "outputs": [
    {
     "data": {
      "text/html": [
       "<div>\n",
       "<style scoped>\n",
       "    .dataframe tbody tr th:only-of-type {\n",
       "        vertical-align: middle;\n",
       "    }\n",
       "\n",
       "    .dataframe tbody tr th {\n",
       "        vertical-align: top;\n",
       "    }\n",
       "\n",
       "    .dataframe thead th {\n",
       "        text-align: right;\n",
       "    }\n",
       "</style>\n",
       "<table border=\"1\" class=\"dataframe\">\n",
       "  <thead>\n",
       "    <tr style=\"text-align: right;\">\n",
       "      <th></th>\n",
       "      <th>datetime</th>\n",
       "      <th>city</th>\n",
       "      <th>state</th>\n",
       "      <th>country</th>\n",
       "      <th>shape</th>\n",
       "      <th>duration (seconds)</th>\n",
       "      <th>duration (hours/min)</th>\n",
       "      <th>comments</th>\n",
       "      <th>date posted</th>\n",
       "      <th>latitude</th>\n",
       "      <th>longitude</th>\n",
       "      <th>ufo</th>\n",
       "      <th>year</th>\n",
       "    </tr>\n",
       "  </thead>\n",
       "  <tbody>\n",
       "    <tr>\n",
       "      <th>0</th>\n",
       "      <td>1949-10-10 20:30:00</td>\n",
       "      <td>san marcos</td>\n",
       "      <td>tx</td>\n",
       "      <td>us</td>\n",
       "      <td>cylinder</td>\n",
       "      <td>2700</td>\n",
       "      <td>45 minutes</td>\n",
       "      <td>This event took place in early fall around 194...</td>\n",
       "      <td>4/27/2004</td>\n",
       "      <td>29.8830556</td>\n",
       "      <td>-97.941111</td>\n",
       "      <td>1</td>\n",
       "      <td>1949</td>\n",
       "    </tr>\n",
       "    <tr>\n",
       "      <th>1</th>\n",
       "      <td>1949-10-10 21:00:00</td>\n",
       "      <td>lackland afb</td>\n",
       "      <td>tx</td>\n",
       "      <td>NaN</td>\n",
       "      <td>light</td>\n",
       "      <td>7200</td>\n",
       "      <td>1-2 hrs</td>\n",
       "      <td>1949 Lackland AFB&amp;#44 TX.  Lights racing acros...</td>\n",
       "      <td>12/16/2005</td>\n",
       "      <td>29.38421</td>\n",
       "      <td>-98.581082</td>\n",
       "      <td>1</td>\n",
       "      <td>1949</td>\n",
       "    </tr>\n",
       "    <tr>\n",
       "      <th>2</th>\n",
       "      <td>1955-10-10 17:00:00</td>\n",
       "      <td>chester (uk/england)</td>\n",
       "      <td>NaN</td>\n",
       "      <td>gb</td>\n",
       "      <td>circle</td>\n",
       "      <td>20</td>\n",
       "      <td>20 seconds</td>\n",
       "      <td>Green/Orange circular disc over Chester&amp;#44 En...</td>\n",
       "      <td>1/21/2008</td>\n",
       "      <td>53.2</td>\n",
       "      <td>-2.916667</td>\n",
       "      <td>1</td>\n",
       "      <td>1955</td>\n",
       "    </tr>\n",
       "    <tr>\n",
       "      <th>3</th>\n",
       "      <td>1956-10-10 21:00:00</td>\n",
       "      <td>edna</td>\n",
       "      <td>tx</td>\n",
       "      <td>us</td>\n",
       "      <td>circle</td>\n",
       "      <td>20</td>\n",
       "      <td>1/2 hour</td>\n",
       "      <td>My older brother and twin sister were leaving ...</td>\n",
       "      <td>1/17/2004</td>\n",
       "      <td>28.9783333</td>\n",
       "      <td>-96.645833</td>\n",
       "      <td>1</td>\n",
       "      <td>1956</td>\n",
       "    </tr>\n",
       "    <tr>\n",
       "      <th>4</th>\n",
       "      <td>1960-10-10 20:00:00</td>\n",
       "      <td>kaneohe</td>\n",
       "      <td>hi</td>\n",
       "      <td>us</td>\n",
       "      <td>light</td>\n",
       "      <td>900</td>\n",
       "      <td>15 minutes</td>\n",
       "      <td>AS a Marine 1st Lt. flying an FJ4B fighter/att...</td>\n",
       "      <td>1/22/2004</td>\n",
       "      <td>21.4180556</td>\n",
       "      <td>-157.803611</td>\n",
       "      <td>1</td>\n",
       "      <td>1960</td>\n",
       "    </tr>\n",
       "  </tbody>\n",
       "</table>\n",
       "</div>"
      ],
      "text/plain": [
       "             datetime                  city state country     shape  \\\n",
       "0 1949-10-10 20:30:00            san marcos    tx      us  cylinder   \n",
       "1 1949-10-10 21:00:00          lackland afb    tx     NaN     light   \n",
       "2 1955-10-10 17:00:00  chester (uk/england)   NaN      gb    circle   \n",
       "3 1956-10-10 21:00:00                  edna    tx      us    circle   \n",
       "4 1960-10-10 20:00:00               kaneohe    hi      us     light   \n",
       "\n",
       "  duration (seconds) duration (hours/min)  \\\n",
       "0               2700           45 minutes   \n",
       "1               7200              1-2 hrs   \n",
       "2                 20           20 seconds   \n",
       "3                 20             1/2 hour   \n",
       "4                900           15 minutes   \n",
       "\n",
       "                                            comments date posted    latitude  \\\n",
       "0  This event took place in early fall around 194...   4/27/2004  29.8830556   \n",
       "1  1949 Lackland AFB&#44 TX.  Lights racing acros...  12/16/2005    29.38421   \n",
       "2  Green/Orange circular disc over Chester&#44 En...   1/21/2008        53.2   \n",
       "3  My older brother and twin sister were leaving ...   1/17/2004  28.9783333   \n",
       "4  AS a Marine 1st Lt. flying an FJ4B fighter/att...   1/22/2004  21.4180556   \n",
       "\n",
       "    longitude  ufo  year  \n",
       "0  -97.941111    1  1949  \n",
       "1  -98.581082    1  1949  \n",
       "2   -2.916667    1  1955  \n",
       "3  -96.645833    1  1956  \n",
       "4 -157.803611    1  1960  "
      ]
     },
     "execution_count": 6,
     "metadata": {},
     "output_type": "execute_result"
    }
   ],
   "source": [
    "df_ufo['year'] = pd.DatetimeIndex(df_ufo['datetime']).year\n",
    "df_ufo['ufo'] = 1\n",
    "df_ufo.head()"
   ]
  },
  {
   "cell_type": "code",
   "execution_count": 7,
   "id": "d615e6cf",
   "metadata": {},
   "outputs": [
    {
     "name": "stdout",
     "output_type": "stream",
     "text": [
      "(88679, 2)\n"
     ]
    }
   ],
   "source": [
    "df_ufo_2 = df_ufo[['year', 'ufo']]\n",
    "print(df_ufo_2.shape)"
   ]
  },
  {
   "cell_type": "code",
   "execution_count": 8,
   "id": "59c7dac7",
   "metadata": {},
   "outputs": [
    {
     "data": {
      "text/plain": [
       "count    88679.000000\n",
       "mean      2003.651564\n",
       "std         10.599764\n",
       "min       1906.000000\n",
       "25%       2001.000000\n",
       "50%       2006.000000\n",
       "75%       2011.000000\n",
       "max       2014.000000\n",
       "Name: year, dtype: float64"
      ]
     },
     "execution_count": 8,
     "metadata": {},
     "output_type": "execute_result"
    }
   ],
   "source": [
    "df_ufo_2['year'].describe()"
   ]
  },
  {
   "cell_type": "markdown",
   "id": "22dabbf9",
   "metadata": {},
   "source": [
    "### 1.2 Meteorite Data"
   ]
  },
  {
   "cell_type": "code",
   "execution_count": 9,
   "id": "2519e507",
   "metadata": {},
   "outputs": [
    {
     "data": {
      "text/html": [
       "<div>\n",
       "<style scoped>\n",
       "    .dataframe tbody tr th:only-of-type {\n",
       "        vertical-align: middle;\n",
       "    }\n",
       "\n",
       "    .dataframe tbody tr th {\n",
       "        vertical-align: top;\n",
       "    }\n",
       "\n",
       "    .dataframe thead th {\n",
       "        text-align: right;\n",
       "    }\n",
       "</style>\n",
       "<table border=\"1\" class=\"dataframe\">\n",
       "  <thead>\n",
       "    <tr style=\"text-align: right;\">\n",
       "      <th></th>\n",
       "      <th>name</th>\n",
       "      <th>id</th>\n",
       "      <th>recclass</th>\n",
       "      <th>mass (g)</th>\n",
       "      <th>year</th>\n",
       "      <th>latitude</th>\n",
       "      <th>longitude</th>\n",
       "      <th>Address</th>\n",
       "    </tr>\n",
       "  </thead>\n",
       "  <tbody>\n",
       "    <tr>\n",
       "      <th>0</th>\n",
       "      <td>Allegan</td>\n",
       "      <td>2276</td>\n",
       "      <td>H5</td>\n",
       "      <td>32000.0</td>\n",
       "      <td>1899</td>\n",
       "      <td>42.53333</td>\n",
       "      <td>-85.88333</td>\n",
       "      <td>1596 34th St, Allegan, MI 49010, USA</td>\n",
       "    </tr>\n",
       "    <tr>\n",
       "      <th>1</th>\n",
       "      <td>Andover</td>\n",
       "      <td>2295</td>\n",
       "      <td>L6</td>\n",
       "      <td>3200.0</td>\n",
       "      <td>1898</td>\n",
       "      <td>44.61667</td>\n",
       "      <td>-70.75000</td>\n",
       "      <td>J782+M2 Andover, ME, USA</td>\n",
       "    </tr>\n",
       "    <tr>\n",
       "      <th>2</th>\n",
       "      <td>Archie</td>\n",
       "      <td>2329</td>\n",
       "      <td>H6</td>\n",
       "      <td>5070.0</td>\n",
       "      <td>1932</td>\n",
       "      <td>38.50000</td>\n",
       "      <td>-94.30000</td>\n",
       "      <td>33900 S Dickey Rd, Archie, MO 64725, USA</td>\n",
       "    </tr>\n",
       "    <tr>\n",
       "      <th>3</th>\n",
       "      <td>Ash Creek</td>\n",
       "      <td>48954</td>\n",
       "      <td>L6</td>\n",
       "      <td>9500.0</td>\n",
       "      <td>2009</td>\n",
       "      <td>31.80500</td>\n",
       "      <td>-97.01000</td>\n",
       "      <td>RX4R+22 Cottonwood, TX, USA</td>\n",
       "    </tr>\n",
       "    <tr>\n",
       "      <th>4</th>\n",
       "      <td>Athens</td>\n",
       "      <td>4885</td>\n",
       "      <td>LL6</td>\n",
       "      <td>265.0</td>\n",
       "      <td>1933</td>\n",
       "      <td>34.75000</td>\n",
       "      <td>-87.00000</td>\n",
       "      <td>Q222+22 Athens, AL, USA</td>\n",
       "    </tr>\n",
       "  </tbody>\n",
       "</table>\n",
       "</div>"
      ],
      "text/plain": [
       "        name     id recclass  mass (g)  year  latitude  longitude  \\\n",
       "0    Allegan   2276       H5   32000.0  1899  42.53333  -85.88333   \n",
       "1    Andover   2295       L6    3200.0  1898  44.61667  -70.75000   \n",
       "2     Archie   2329       H6    5070.0  1932  38.50000  -94.30000   \n",
       "3  Ash Creek  48954       L6    9500.0  2009  31.80500  -97.01000   \n",
       "4     Athens   4885      LL6     265.0  1933  34.75000  -87.00000   \n",
       "\n",
       "                                    Address  \n",
       "0      1596 34th St, Allegan, MI 49010, USA  \n",
       "1                  J782+M2 Andover, ME, USA  \n",
       "2  33900 S Dickey Rd, Archie, MO 64725, USA  \n",
       "3               RX4R+22 Cottonwood, TX, USA  \n",
       "4                   Q222+22 Athens, AL, USA  "
      ]
     },
     "execution_count": 9,
     "metadata": {},
     "output_type": "execute_result"
    }
   ],
   "source": [
    "df_meteorite = pd.read_json('Resources/Meteorite_Landings.json')\n",
    "df_meteorite.head()"
   ]
  },
  {
   "cell_type": "code",
   "execution_count": 10,
   "id": "0cd231e9",
   "metadata": {},
   "outputs": [],
   "source": [
    "#some rows have missing year values, they need to be dropped\n",
    "df_meteorite_2 = df_meteorite.dropna()"
   ]
  },
  {
   "cell_type": "code",
   "execution_count": 11,
   "id": "1ef0d623",
   "metadata": {},
   "outputs": [
    {
     "name": "stdout",
     "output_type": "stream",
     "text": [
      "<class 'pandas.core.frame.DataFrame'>\n",
      "Int64Index: 144 entries, 0 to 143\n",
      "Data columns (total 9 columns):\n",
      " #   Column     Non-Null Count  Dtype  \n",
      "---  ------     --------------  -----  \n",
      " 0   name       144 non-null    object \n",
      " 1   id         144 non-null    int64  \n",
      " 2   recclass   144 non-null    object \n",
      " 3   mass (g)   144 non-null    float64\n",
      " 4   year       144 non-null    int64  \n",
      " 5   latitude   144 non-null    float64\n",
      " 6   longitude  144 non-null    float64\n",
      " 7   Address    144 non-null    object \n",
      " 8   meteorite  144 non-null    int64  \n",
      "dtypes: float64(3), int64(3), object(3)\n",
      "memory usage: 11.2+ KB\n"
     ]
    }
   ],
   "source": [
    "df_meteorite_2 = df_meteorite_2.astype({'year': int}, errors='raise')\n",
    "df_meteorite_2['meteorite'] = 1\n",
    "df_meteorite_2.info()"
   ]
  },
  {
   "cell_type": "code",
   "execution_count": 12,
   "id": "129bc1cd",
   "metadata": {},
   "outputs": [
    {
     "name": "stdout",
     "output_type": "stream",
     "text": [
      "(144, 2)\n"
     ]
    }
   ],
   "source": [
    "df_meteorite_3 = df_meteorite_2[['year', 'meteorite']]\n",
    "print(df_meteorite_3.shape)"
   ]
  },
  {
   "cell_type": "code",
   "execution_count": 13,
   "id": "30b91bdf",
   "metadata": {},
   "outputs": [
    {
     "data": {
      "text/plain": [
       "count     144.000000\n",
       "mean     1922.680556\n",
       "std        50.917272\n",
       "min      1807.000000\n",
       "25%      1890.000000\n",
       "50%      1925.000000\n",
       "75%      1956.750000\n",
       "max      2012.000000\n",
       "Name: year, dtype: float64"
      ]
     },
     "execution_count": 13,
     "metadata": {},
     "output_type": "execute_result"
    }
   ],
   "source": [
    "df_meteorite_3['year'].describe()"
   ]
  },
  {
   "cell_type": "code",
   "execution_count": 14,
   "id": "be3fafc6",
   "metadata": {},
   "outputs": [
    {
     "name": "stdout",
     "output_type": "stream",
     "text": [
      "(99, 2)\n"
     ]
    }
   ],
   "source": [
    "#restrict date range to 1900 - 2023\n",
    "df_meteorite_4 = df_meteorite_3.loc[(df_meteorite_3['year']>=1900)&(df_meteorite_3['year']<=2023)]\n",
    "print(df_meteorite_4.shape)"
   ]
  },
  {
   "cell_type": "markdown",
   "id": "a56e813e",
   "metadata": {},
   "source": [
    "### 1.3 Fireball Data"
   ]
  },
  {
   "cell_type": "code",
   "execution_count": 15,
   "id": "6033e47d",
   "metadata": {},
   "outputs": [
    {
     "data": {
      "text/html": [
       "<div>\n",
       "<style scoped>\n",
       "    .dataframe tbody tr th:only-of-type {\n",
       "        vertical-align: middle;\n",
       "    }\n",
       "\n",
       "    .dataframe tbody tr th {\n",
       "        vertical-align: top;\n",
       "    }\n",
       "\n",
       "    .dataframe thead th {\n",
       "        text-align: right;\n",
       "    }\n",
       "</style>\n",
       "<table border=\"1\" class=\"dataframe\">\n",
       "  <thead>\n",
       "    <tr style=\"text-align: right;\">\n",
       "      <th></th>\n",
       "      <th>Peak Brightness Date/Time (UT)</th>\n",
       "      <th>Latitude (deg.)</th>\n",
       "      <th>Longitude (deg.)</th>\n",
       "      <th>Altitude (km)</th>\n",
       "      <th>Velocity (km/s)</th>\n",
       "      <th>vx</th>\n",
       "      <th>vy</th>\n",
       "      <th>vz</th>\n",
       "      <th>Total Radiated Energy (J)</th>\n",
       "      <th>Calculated Total Impact Energy (kt)</th>\n",
       "    </tr>\n",
       "  </thead>\n",
       "  <tbody>\n",
       "    <tr>\n",
       "      <th>0</th>\n",
       "      <td>2023-04-01 00:02:03</td>\n",
       "      <td>16.8S</td>\n",
       "      <td>76.0E</td>\n",
       "      <td>61.8</td>\n",
       "      <td>46.4</td>\n",
       "      <td>21.4</td>\n",
       "      <td>-40.6</td>\n",
       "      <td>7.1</td>\n",
       "      <td>2.400000e+10</td>\n",
       "      <td>0.086</td>\n",
       "    </tr>\n",
       "    <tr>\n",
       "      <th>1</th>\n",
       "      <td>2023-03-20 06:53:23</td>\n",
       "      <td>23.7S</td>\n",
       "      <td>132.6E</td>\n",
       "      <td>34.8</td>\n",
       "      <td>NaN</td>\n",
       "      <td>NaN</td>\n",
       "      <td>NaN</td>\n",
       "      <td>NaN</td>\n",
       "      <td>2.700000e+10</td>\n",
       "      <td>0.095</td>\n",
       "    </tr>\n",
       "    <tr>\n",
       "      <th>2</th>\n",
       "      <td>2023-03-11 08:21:28</td>\n",
       "      <td>74.7S</td>\n",
       "      <td>79.5E</td>\n",
       "      <td>32.0</td>\n",
       "      <td>NaN</td>\n",
       "      <td>NaN</td>\n",
       "      <td>NaN</td>\n",
       "      <td>NaN</td>\n",
       "      <td>4.440000e+11</td>\n",
       "      <td>1.100</td>\n",
       "    </tr>\n",
       "    <tr>\n",
       "      <th>3</th>\n",
       "      <td>2023-03-03 02:53:54</td>\n",
       "      <td>40.1N</td>\n",
       "      <td>87.4E</td>\n",
       "      <td>32.0</td>\n",
       "      <td>25.3</td>\n",
       "      <td>16.1</td>\n",
       "      <td>-19.3</td>\n",
       "      <td>2.6</td>\n",
       "      <td>6.400000e+10</td>\n",
       "      <td>0.200</td>\n",
       "    </tr>\n",
       "    <tr>\n",
       "      <th>4</th>\n",
       "      <td>2023-02-19 06:15:34</td>\n",
       "      <td>7.9N</td>\n",
       "      <td>109.9E</td>\n",
       "      <td>37.0</td>\n",
       "      <td>23.0</td>\n",
       "      <td>-1.1</td>\n",
       "      <td>-22.9</td>\n",
       "      <td>1.2</td>\n",
       "      <td>2.030000e+11</td>\n",
       "      <td>0.570</td>\n",
       "    </tr>\n",
       "  </tbody>\n",
       "</table>\n",
       "</div>"
      ],
      "text/plain": [
       "  Peak Brightness Date/Time (UT) Latitude (deg.) Longitude (deg.)  \\\n",
       "0            2023-04-01 00:02:03           16.8S            76.0E   \n",
       "1            2023-03-20 06:53:23           23.7S           132.6E   \n",
       "2            2023-03-11 08:21:28           74.7S            79.5E   \n",
       "3            2023-03-03 02:53:54           40.1N            87.4E   \n",
       "4            2023-02-19 06:15:34            7.9N           109.9E   \n",
       "\n",
       "   Altitude (km)  Velocity (km/s)    vx    vy   vz  Total Radiated Energy (J)  \\\n",
       "0           61.8             46.4  21.4 -40.6  7.1               2.400000e+10   \n",
       "1           34.8              NaN   NaN   NaN  NaN               2.700000e+10   \n",
       "2           32.0              NaN   NaN   NaN  NaN               4.440000e+11   \n",
       "3           32.0             25.3  16.1 -19.3  2.6               6.400000e+10   \n",
       "4           37.0             23.0  -1.1 -22.9  1.2               2.030000e+11   \n",
       "\n",
       "   Calculated Total Impact Energy (kt)  \n",
       "0                                0.086  \n",
       "1                                0.095  \n",
       "2                                1.100  \n",
       "3                                0.200  \n",
       "4                                0.570  "
      ]
     },
     "execution_count": 15,
     "metadata": {},
     "output_type": "execute_result"
    }
   ],
   "source": [
    "df_fireball = pd.read_csv('Resources/Longer_Fireball_Data.csv')\n",
    "df_fireball.head()"
   ]
  },
  {
   "cell_type": "code",
   "execution_count": 16,
   "id": "4acf07de",
   "metadata": {},
   "outputs": [
    {
     "name": "stdout",
     "output_type": "stream",
     "text": [
      "<class 'pandas.core.frame.DataFrame'>\n",
      "RangeIndex: 951 entries, 0 to 950\n",
      "Data columns (total 10 columns):\n",
      " #   Column                               Non-Null Count  Dtype         \n",
      "---  ------                               --------------  -----         \n",
      " 0   Peak Brightness Date/Time (UT)       951 non-null    datetime64[ns]\n",
      " 1   Latitude (deg.)                      761 non-null    object        \n",
      " 2   Longitude (deg.)                     761 non-null    object        \n",
      " 3   Altitude (km)                        493 non-null    float64       \n",
      " 4   Velocity (km/s)                      288 non-null    float64       \n",
      " 5   vx                                   288 non-null    float64       \n",
      " 6   vy                                   288 non-null    float64       \n",
      " 7   vz                                   288 non-null    float64       \n",
      " 8   Total Radiated Energy (J)            951 non-null    float64       \n",
      " 9   Calculated Total Impact Energy (kt)  951 non-null    float64       \n",
      "dtypes: datetime64[ns](1), float64(7), object(2)\n",
      "memory usage: 74.4+ KB\n"
     ]
    }
   ],
   "source": [
    "df_fireball['Peak Brightness Date/Time (UT)'] = pd.to_datetime(df_fireball['Peak Brightness Date/Time (UT)'])\n",
    "df_fireball.info()"
   ]
  },
  {
   "cell_type": "code",
   "execution_count": 17,
   "id": "491e1c7f",
   "metadata": {},
   "outputs": [
    {
     "data": {
      "text/html": [
       "<div>\n",
       "<style scoped>\n",
       "    .dataframe tbody tr th:only-of-type {\n",
       "        vertical-align: middle;\n",
       "    }\n",
       "\n",
       "    .dataframe tbody tr th {\n",
       "        vertical-align: top;\n",
       "    }\n",
       "\n",
       "    .dataframe thead th {\n",
       "        text-align: right;\n",
       "    }\n",
       "</style>\n",
       "<table border=\"1\" class=\"dataframe\">\n",
       "  <thead>\n",
       "    <tr style=\"text-align: right;\">\n",
       "      <th></th>\n",
       "      <th>Peak Brightness Date/Time (UT)</th>\n",
       "      <th>Latitude (deg.)</th>\n",
       "      <th>Longitude (deg.)</th>\n",
       "      <th>Altitude (km)</th>\n",
       "      <th>Velocity (km/s)</th>\n",
       "      <th>vx</th>\n",
       "      <th>vy</th>\n",
       "      <th>vz</th>\n",
       "      <th>Total Radiated Energy (J)</th>\n",
       "      <th>Calculated Total Impact Energy (kt)</th>\n",
       "      <th>year</th>\n",
       "      <th>fireball</th>\n",
       "    </tr>\n",
       "  </thead>\n",
       "  <tbody>\n",
       "    <tr>\n",
       "      <th>0</th>\n",
       "      <td>2023-04-01 00:02:03</td>\n",
       "      <td>16.8S</td>\n",
       "      <td>76.0E</td>\n",
       "      <td>61.8</td>\n",
       "      <td>46.4</td>\n",
       "      <td>21.4</td>\n",
       "      <td>-40.6</td>\n",
       "      <td>7.1</td>\n",
       "      <td>2.400000e+10</td>\n",
       "      <td>0.086</td>\n",
       "      <td>2023</td>\n",
       "      <td>1</td>\n",
       "    </tr>\n",
       "    <tr>\n",
       "      <th>1</th>\n",
       "      <td>2023-03-20 06:53:23</td>\n",
       "      <td>23.7S</td>\n",
       "      <td>132.6E</td>\n",
       "      <td>34.8</td>\n",
       "      <td>NaN</td>\n",
       "      <td>NaN</td>\n",
       "      <td>NaN</td>\n",
       "      <td>NaN</td>\n",
       "      <td>2.700000e+10</td>\n",
       "      <td>0.095</td>\n",
       "      <td>2023</td>\n",
       "      <td>1</td>\n",
       "    </tr>\n",
       "    <tr>\n",
       "      <th>2</th>\n",
       "      <td>2023-03-11 08:21:28</td>\n",
       "      <td>74.7S</td>\n",
       "      <td>79.5E</td>\n",
       "      <td>32.0</td>\n",
       "      <td>NaN</td>\n",
       "      <td>NaN</td>\n",
       "      <td>NaN</td>\n",
       "      <td>NaN</td>\n",
       "      <td>4.440000e+11</td>\n",
       "      <td>1.100</td>\n",
       "      <td>2023</td>\n",
       "      <td>1</td>\n",
       "    </tr>\n",
       "    <tr>\n",
       "      <th>3</th>\n",
       "      <td>2023-03-03 02:53:54</td>\n",
       "      <td>40.1N</td>\n",
       "      <td>87.4E</td>\n",
       "      <td>32.0</td>\n",
       "      <td>25.3</td>\n",
       "      <td>16.1</td>\n",
       "      <td>-19.3</td>\n",
       "      <td>2.6</td>\n",
       "      <td>6.400000e+10</td>\n",
       "      <td>0.200</td>\n",
       "      <td>2023</td>\n",
       "      <td>1</td>\n",
       "    </tr>\n",
       "    <tr>\n",
       "      <th>4</th>\n",
       "      <td>2023-02-19 06:15:34</td>\n",
       "      <td>7.9N</td>\n",
       "      <td>109.9E</td>\n",
       "      <td>37.0</td>\n",
       "      <td>23.0</td>\n",
       "      <td>-1.1</td>\n",
       "      <td>-22.9</td>\n",
       "      <td>1.2</td>\n",
       "      <td>2.030000e+11</td>\n",
       "      <td>0.570</td>\n",
       "      <td>2023</td>\n",
       "      <td>1</td>\n",
       "    </tr>\n",
       "  </tbody>\n",
       "</table>\n",
       "</div>"
      ],
      "text/plain": [
       "  Peak Brightness Date/Time (UT) Latitude (deg.) Longitude (deg.)  \\\n",
       "0            2023-04-01 00:02:03           16.8S            76.0E   \n",
       "1            2023-03-20 06:53:23           23.7S           132.6E   \n",
       "2            2023-03-11 08:21:28           74.7S            79.5E   \n",
       "3            2023-03-03 02:53:54           40.1N            87.4E   \n",
       "4            2023-02-19 06:15:34            7.9N           109.9E   \n",
       "\n",
       "   Altitude (km)  Velocity (km/s)    vx    vy   vz  Total Radiated Energy (J)  \\\n",
       "0           61.8             46.4  21.4 -40.6  7.1               2.400000e+10   \n",
       "1           34.8              NaN   NaN   NaN  NaN               2.700000e+10   \n",
       "2           32.0              NaN   NaN   NaN  NaN               4.440000e+11   \n",
       "3           32.0             25.3  16.1 -19.3  2.6               6.400000e+10   \n",
       "4           37.0             23.0  -1.1 -22.9  1.2               2.030000e+11   \n",
       "\n",
       "   Calculated Total Impact Energy (kt)  year  fireball  \n",
       "0                                0.086  2023         1  \n",
       "1                                0.095  2023         1  \n",
       "2                                1.100  2023         1  \n",
       "3                                0.200  2023         1  \n",
       "4                                0.570  2023         1  "
      ]
     },
     "execution_count": 17,
     "metadata": {},
     "output_type": "execute_result"
    }
   ],
   "source": [
    "df_fireball['year'] = pd.DatetimeIndex(df_fireball['Peak Brightness Date/Time (UT)']).year\n",
    "df_fireball['fireball'] = 1\n",
    "df_fireball.head()"
   ]
  },
  {
   "cell_type": "code",
   "execution_count": 18,
   "id": "d621ce1f",
   "metadata": {},
   "outputs": [
    {
     "name": "stdout",
     "output_type": "stream",
     "text": [
      "(951, 2)\n"
     ]
    }
   ],
   "source": [
    "df_fireball_2 = df_fireball[['year', 'fireball']]\n",
    "print(df_fireball_2.shape)"
   ]
  },
  {
   "cell_type": "code",
   "execution_count": 19,
   "id": "50875037",
   "metadata": {},
   "outputs": [
    {
     "data": {
      "text/plain": [
       "count     951.000000\n",
       "mean     2009.319664\n",
       "std         8.212623\n",
       "min      1988.000000\n",
       "25%      2003.000000\n",
       "50%      2009.000000\n",
       "75%      2016.000000\n",
       "max      2023.000000\n",
       "Name: year, dtype: float64"
      ]
     },
     "execution_count": 19,
     "metadata": {},
     "output_type": "execute_result"
    }
   ],
   "source": [
    "df_fireball_2['year'].describe()"
   ]
  },
  {
   "cell_type": "markdown",
   "id": "579006a2",
   "metadata": {},
   "source": [
    "# 2. Create Year Array (1900 - 2023)"
   ]
  },
  {
   "cell_type": "code",
   "execution_count": 20,
   "id": "2803264d",
   "metadata": {},
   "outputs": [],
   "source": [
    "years = []\n",
    "x = 1900\n",
    "while x < 2024:\n",
    "    years.append(x)\n",
    "    x +=1"
   ]
  },
  {
   "cell_type": "code",
   "execution_count": 21,
   "id": "ba0583be",
   "metadata": {},
   "outputs": [
    {
     "data": {
      "text/html": [
       "<div>\n",
       "<style scoped>\n",
       "    .dataframe tbody tr th:only-of-type {\n",
       "        vertical-align: middle;\n",
       "    }\n",
       "\n",
       "    .dataframe tbody tr th {\n",
       "        vertical-align: top;\n",
       "    }\n",
       "\n",
       "    .dataframe thead th {\n",
       "        text-align: right;\n",
       "    }\n",
       "</style>\n",
       "<table border=\"1\" class=\"dataframe\">\n",
       "  <thead>\n",
       "    <tr style=\"text-align: right;\">\n",
       "      <th></th>\n",
       "      <th>year</th>\n",
       "    </tr>\n",
       "  </thead>\n",
       "  <tbody>\n",
       "    <tr>\n",
       "      <th>0</th>\n",
       "      <td>1900</td>\n",
       "    </tr>\n",
       "    <tr>\n",
       "      <th>1</th>\n",
       "      <td>1901</td>\n",
       "    </tr>\n",
       "    <tr>\n",
       "      <th>2</th>\n",
       "      <td>1902</td>\n",
       "    </tr>\n",
       "    <tr>\n",
       "      <th>3</th>\n",
       "      <td>1903</td>\n",
       "    </tr>\n",
       "    <tr>\n",
       "      <th>4</th>\n",
       "      <td>1904</td>\n",
       "    </tr>\n",
       "  </tbody>\n",
       "</table>\n",
       "</div>"
      ],
      "text/plain": [
       "   year\n",
       "0  1900\n",
       "1  1901\n",
       "2  1902\n",
       "3  1903\n",
       "4  1904"
      ]
     },
     "execution_count": 21,
     "metadata": {},
     "output_type": "execute_result"
    }
   ],
   "source": [
    "df_years = pd.DataFrame(years)\n",
    "df_years = df_years.rename(columns={0:'year'})\n",
    "df_years.head()"
   ]
  },
  {
   "cell_type": "markdown",
   "id": "72b7c561",
   "metadata": {},
   "source": [
    "# 3. Sighting Counts by Year"
   ]
  },
  {
   "cell_type": "markdown",
   "id": "fc656640",
   "metadata": {},
   "source": [
    "### 3.1 UFO"
   ]
  },
  {
   "cell_type": "code",
   "execution_count": 22,
   "id": "47cea392",
   "metadata": {},
   "outputs": [
    {
     "data": {
      "text/html": [
       "<div>\n",
       "<style scoped>\n",
       "    .dataframe tbody tr th:only-of-type {\n",
       "        vertical-align: middle;\n",
       "    }\n",
       "\n",
       "    .dataframe tbody tr th {\n",
       "        vertical-align: top;\n",
       "    }\n",
       "\n",
       "    .dataframe thead th {\n",
       "        text-align: right;\n",
       "    }\n",
       "</style>\n",
       "<table border=\"1\" class=\"dataframe\">\n",
       "  <thead>\n",
       "    <tr style=\"text-align: right;\">\n",
       "      <th></th>\n",
       "      <th>year</th>\n",
       "      <th>ufo</th>\n",
       "    </tr>\n",
       "  </thead>\n",
       "  <tbody>\n",
       "    <tr>\n",
       "      <th>0</th>\n",
       "      <td>1906</td>\n",
       "      <td>1</td>\n",
       "    </tr>\n",
       "    <tr>\n",
       "      <th>1</th>\n",
       "      <td>1910</td>\n",
       "      <td>3</td>\n",
       "    </tr>\n",
       "    <tr>\n",
       "      <th>2</th>\n",
       "      <td>1914</td>\n",
       "      <td>1</td>\n",
       "    </tr>\n",
       "    <tr>\n",
       "      <th>3</th>\n",
       "      <td>1916</td>\n",
       "      <td>1</td>\n",
       "    </tr>\n",
       "    <tr>\n",
       "      <th>4</th>\n",
       "      <td>1917</td>\n",
       "      <td>1</td>\n",
       "    </tr>\n",
       "  </tbody>\n",
       "</table>\n",
       "</div>"
      ],
      "text/plain": [
       "   year  ufo\n",
       "0  1906    1\n",
       "1  1910    3\n",
       "2  1914    1\n",
       "3  1916    1\n",
       "4  1917    1"
      ]
     },
     "execution_count": 22,
     "metadata": {},
     "output_type": "execute_result"
    }
   ],
   "source": [
    "df_ufo_by_year = df_ufo_2.groupby('year').sum().reset_index()\n",
    "df_ufo_by_year = df_ufo_by_year.sort_values('year', ascending = True)\n",
    "df_ufo_by_year.head()"
   ]
  },
  {
   "cell_type": "code",
   "execution_count": 23,
   "id": "e290a39e",
   "metadata": {},
   "outputs": [],
   "source": [
    "df_ufo_by_year = df_ufo_by_year.rename(columns={'ufo':'ufo_sightings'})"
   ]
  },
  {
   "cell_type": "markdown",
   "id": "5e313974",
   "metadata": {},
   "source": [
    "### 3.2 Meteorite"
   ]
  },
  {
   "cell_type": "code",
   "execution_count": 24,
   "id": "1e479500",
   "metadata": {},
   "outputs": [
    {
     "data": {
      "text/html": [
       "<div>\n",
       "<style scoped>\n",
       "    .dataframe tbody tr th:only-of-type {\n",
       "        vertical-align: middle;\n",
       "    }\n",
       "\n",
       "    .dataframe tbody tr th {\n",
       "        vertical-align: top;\n",
       "    }\n",
       "\n",
       "    .dataframe thead th {\n",
       "        text-align: right;\n",
       "    }\n",
       "</style>\n",
       "<table border=\"1\" class=\"dataframe\">\n",
       "  <thead>\n",
       "    <tr style=\"text-align: right;\">\n",
       "      <th></th>\n",
       "      <th>year</th>\n",
       "      <th>meteorite</th>\n",
       "    </tr>\n",
       "  </thead>\n",
       "  <tbody>\n",
       "    <tr>\n",
       "      <th>0</th>\n",
       "      <td>1900</td>\n",
       "      <td>1</td>\n",
       "    </tr>\n",
       "    <tr>\n",
       "      <th>1</th>\n",
       "      <td>1902</td>\n",
       "      <td>1</td>\n",
       "    </tr>\n",
       "    <tr>\n",
       "      <th>2</th>\n",
       "      <td>1903</td>\n",
       "      <td>1</td>\n",
       "    </tr>\n",
       "    <tr>\n",
       "      <th>3</th>\n",
       "      <td>1905</td>\n",
       "      <td>1</td>\n",
       "    </tr>\n",
       "    <tr>\n",
       "      <th>4</th>\n",
       "      <td>1906</td>\n",
       "      <td>2</td>\n",
       "    </tr>\n",
       "  </tbody>\n",
       "</table>\n",
       "</div>"
      ],
      "text/plain": [
       "   year  meteorite\n",
       "0  1900          1\n",
       "1  1902          1\n",
       "2  1903          1\n",
       "3  1905          1\n",
       "4  1906          2"
      ]
     },
     "execution_count": 24,
     "metadata": {},
     "output_type": "execute_result"
    }
   ],
   "source": [
    "df_meteorite_by_year = df_meteorite_4.groupby('year').sum().reset_index()\n",
    "df_meteorite_by_year = df_meteorite_by_year.sort_values('year', ascending = True)\n",
    "df_meteorite_by_year.head()"
   ]
  },
  {
   "cell_type": "code",
   "execution_count": 25,
   "id": "e858aca6",
   "metadata": {},
   "outputs": [],
   "source": [
    "df_meteorite_by_year = df_meteorite_by_year.rename(columns={'meteorite':'meteorite_sightings'})"
   ]
  },
  {
   "cell_type": "markdown",
   "id": "6ce95b25",
   "metadata": {},
   "source": [
    "### 3.3 Fireball"
   ]
  },
  {
   "cell_type": "code",
   "execution_count": 26,
   "id": "cc67d62c",
   "metadata": {},
   "outputs": [
    {
     "data": {
      "text/html": [
       "<div>\n",
       "<style scoped>\n",
       "    .dataframe tbody tr th:only-of-type {\n",
       "        vertical-align: middle;\n",
       "    }\n",
       "\n",
       "    .dataframe tbody tr th {\n",
       "        vertical-align: top;\n",
       "    }\n",
       "\n",
       "    .dataframe thead th {\n",
       "        text-align: right;\n",
       "    }\n",
       "</style>\n",
       "<table border=\"1\" class=\"dataframe\">\n",
       "  <thead>\n",
       "    <tr style=\"text-align: right;\">\n",
       "      <th></th>\n",
       "      <th>year</th>\n",
       "      <th>fireball</th>\n",
       "    </tr>\n",
       "  </thead>\n",
       "  <tbody>\n",
       "    <tr>\n",
       "      <th>0</th>\n",
       "      <td>1988</td>\n",
       "      <td>1</td>\n",
       "    </tr>\n",
       "    <tr>\n",
       "      <th>1</th>\n",
       "      <td>1990</td>\n",
       "      <td>1</td>\n",
       "    </tr>\n",
       "    <tr>\n",
       "      <th>2</th>\n",
       "      <td>1991</td>\n",
       "      <td>1</td>\n",
       "    </tr>\n",
       "    <tr>\n",
       "      <th>3</th>\n",
       "      <td>1993</td>\n",
       "      <td>2</td>\n",
       "    </tr>\n",
       "    <tr>\n",
       "      <th>4</th>\n",
       "      <td>1994</td>\n",
       "      <td>13</td>\n",
       "    </tr>\n",
       "  </tbody>\n",
       "</table>\n",
       "</div>"
      ],
      "text/plain": [
       "   year  fireball\n",
       "0  1988         1\n",
       "1  1990         1\n",
       "2  1991         1\n",
       "3  1993         2\n",
       "4  1994        13"
      ]
     },
     "execution_count": 26,
     "metadata": {},
     "output_type": "execute_result"
    }
   ],
   "source": [
    "df_fireball_by_year = df_fireball_2.groupby('year').sum().reset_index()\n",
    "df_fireball_by_year = df_fireball_by_year.sort_values('year', ascending = True)\n",
    "df_fireball_by_year.head()"
   ]
  },
  {
   "cell_type": "code",
   "execution_count": 27,
   "id": "c0d828e8",
   "metadata": {},
   "outputs": [],
   "source": [
    "df_fireball_by_year = df_fireball_by_year.rename(columns={'fireball':'fireball_sightings'})"
   ]
  },
  {
   "cell_type": "markdown",
   "id": "a60f1795",
   "metadata": {},
   "source": [
    "# 4. Join to Years"
   ]
  },
  {
   "cell_type": "code",
   "execution_count": 28,
   "id": "6b4df0a1",
   "metadata": {},
   "outputs": [
    {
     "data": {
      "text/html": [
       "<div>\n",
       "<style scoped>\n",
       "    .dataframe tbody tr th:only-of-type {\n",
       "        vertical-align: middle;\n",
       "    }\n",
       "\n",
       "    .dataframe tbody tr th {\n",
       "        vertical-align: top;\n",
       "    }\n",
       "\n",
       "    .dataframe thead th {\n",
       "        text-align: right;\n",
       "    }\n",
       "</style>\n",
       "<table border=\"1\" class=\"dataframe\">\n",
       "  <thead>\n",
       "    <tr style=\"text-align: right;\">\n",
       "      <th></th>\n",
       "      <th>year</th>\n",
       "      <th>ufo_sightings</th>\n",
       "      <th>meteorite_sightings</th>\n",
       "      <th>fireball_sightings</th>\n",
       "    </tr>\n",
       "  </thead>\n",
       "  <tbody>\n",
       "    <tr>\n",
       "      <th>0</th>\n",
       "      <td>1900</td>\n",
       "      <td>NaN</td>\n",
       "      <td>1.0</td>\n",
       "      <td>NaN</td>\n",
       "    </tr>\n",
       "    <tr>\n",
       "      <th>1</th>\n",
       "      <td>1901</td>\n",
       "      <td>NaN</td>\n",
       "      <td>NaN</td>\n",
       "      <td>NaN</td>\n",
       "    </tr>\n",
       "    <tr>\n",
       "      <th>2</th>\n",
       "      <td>1902</td>\n",
       "      <td>NaN</td>\n",
       "      <td>1.0</td>\n",
       "      <td>NaN</td>\n",
       "    </tr>\n",
       "    <tr>\n",
       "      <th>3</th>\n",
       "      <td>1903</td>\n",
       "      <td>NaN</td>\n",
       "      <td>1.0</td>\n",
       "      <td>NaN</td>\n",
       "    </tr>\n",
       "    <tr>\n",
       "      <th>4</th>\n",
       "      <td>1904</td>\n",
       "      <td>NaN</td>\n",
       "      <td>NaN</td>\n",
       "      <td>NaN</td>\n",
       "    </tr>\n",
       "  </tbody>\n",
       "</table>\n",
       "</div>"
      ],
      "text/plain": [
       "   year  ufo_sightings  meteorite_sightings  fireball_sightings\n",
       "0  1900            NaN                  1.0                 NaN\n",
       "1  1901            NaN                  NaN                 NaN\n",
       "2  1902            NaN                  1.0                 NaN\n",
       "3  1903            NaN                  1.0                 NaN\n",
       "4  1904            NaN                  NaN                 NaN"
      ]
     },
     "execution_count": 28,
     "metadata": {},
     "output_type": "execute_result"
    }
   ],
   "source": [
    "df_all = pd.merge(df_years, df_ufo_by_year, how='left')\n",
    "df_all = pd.merge(df_all, df_meteorite_by_year, how='left')\n",
    "df_all = pd.merge(df_all, df_fireball_by_year, how='left')\n",
    "df_all.head()"
   ]
  },
  {
   "cell_type": "code",
   "execution_count": 29,
   "id": "3b292cec",
   "metadata": {},
   "outputs": [
    {
     "data": {
      "text/html": [
       "<div>\n",
       "<style scoped>\n",
       "    .dataframe tbody tr th:only-of-type {\n",
       "        vertical-align: middle;\n",
       "    }\n",
       "\n",
       "    .dataframe tbody tr th {\n",
       "        vertical-align: top;\n",
       "    }\n",
       "\n",
       "    .dataframe thead th {\n",
       "        text-align: right;\n",
       "    }\n",
       "</style>\n",
       "<table border=\"1\" class=\"dataframe\">\n",
       "  <thead>\n",
       "    <tr style=\"text-align: right;\">\n",
       "      <th></th>\n",
       "      <th>year</th>\n",
       "      <th>ufo_sightings</th>\n",
       "      <th>meteorite_sightings</th>\n",
       "      <th>fireball_sightings</th>\n",
       "    </tr>\n",
       "  </thead>\n",
       "  <tbody>\n",
       "    <tr>\n",
       "      <th>0</th>\n",
       "      <td>1900</td>\n",
       "      <td>0.0</td>\n",
       "      <td>1.0</td>\n",
       "      <td>0.0</td>\n",
       "    </tr>\n",
       "    <tr>\n",
       "      <th>1</th>\n",
       "      <td>1901</td>\n",
       "      <td>0.0</td>\n",
       "      <td>0.0</td>\n",
       "      <td>0.0</td>\n",
       "    </tr>\n",
       "    <tr>\n",
       "      <th>2</th>\n",
       "      <td>1902</td>\n",
       "      <td>0.0</td>\n",
       "      <td>1.0</td>\n",
       "      <td>0.0</td>\n",
       "    </tr>\n",
       "    <tr>\n",
       "      <th>3</th>\n",
       "      <td>1903</td>\n",
       "      <td>0.0</td>\n",
       "      <td>1.0</td>\n",
       "      <td>0.0</td>\n",
       "    </tr>\n",
       "    <tr>\n",
       "      <th>4</th>\n",
       "      <td>1904</td>\n",
       "      <td>0.0</td>\n",
       "      <td>0.0</td>\n",
       "      <td>0.0</td>\n",
       "    </tr>\n",
       "  </tbody>\n",
       "</table>\n",
       "</div>"
      ],
      "text/plain": [
       "   year  ufo_sightings  meteorite_sightings  fireball_sightings\n",
       "0  1900            0.0                  1.0                 0.0\n",
       "1  1901            0.0                  0.0                 0.0\n",
       "2  1902            0.0                  1.0                 0.0\n",
       "3  1903            0.0                  1.0                 0.0\n",
       "4  1904            0.0                  0.0                 0.0"
      ]
     },
     "execution_count": 29,
     "metadata": {},
     "output_type": "execute_result"
    }
   ],
   "source": [
    "df_all['ufo_sightings'] = np.where(df_all['ufo_sightings'].isna(), 0, df_all['ufo_sightings'])\n",
    "df_all['meteorite_sightings'] = np.where(df_all['meteorite_sightings'].isna(), 0, df_all['meteorite_sightings'])\n",
    "df_all['fireball_sightings'] = np.where(df_all['fireball_sightings'].isna(), 0, df_all['fireball_sightings'])\n",
    "df_all.head()"
   ]
  },
  {
   "cell_type": "code",
   "execution_count": 30,
   "id": "1d91d7cb",
   "metadata": {},
   "outputs": [
    {
     "data": {
      "image/png": "[encoded data removed]",
      "text/plain": [
       "<Figure size 640x480 with 1 Axes>"
      ]
     },
     "metadata": {},
     "output_type": "display_data"
    }
   ],
   "source": [
    "plt.plot(df_all['year'], df_all['ufo_sightings'], color=\"green\", label='UFO Sightings')\n",
    "plt.plot(df_all['year'], df_all['meteorite_sightings'], color=\"red\", label='Meteorite Sightings')\n",
    "plt.plot(df_all['year'], df_all['fireball_sightings'], color=\"blue\", label='Fireball Sightings')\n",
    "\n",
    "plt.xlabel('Year')\n",
    "plt.ylabel('Number of Sightings')\n",
    "plt.title('Sightings by Year (1910-2023)')\n",
    "\n",
    "plt.legend()\n",
    "plt.show()"
   ]
  },
  {
   "cell_type": "code",
   "execution_count": 31,
   "id": "50268cf5",
   "metadata": {},
   "outputs": [],
   "source": [
    "df_all.to_json('Website/Resources/sightings_by_year.json', orient='index')"
   ]
  }
 ],
 "metadata": {
  "kernelspec": {
   "display_name": "Python 3 (ipykernel)",
   "language": "python",
   "name": "python3"
  },
  "language_info": {
   "codemirror_mode": {
    "name": "ipython",
    "version": 3
   },
   "file_extension": ".py",
   "mimetype": "text/x-python",
   "name": "python",
   "nbconvert_exporter": "python",
   "pygments_lexer": "ipython3",
   "version": "3.9.13"
  }
 },
 "nbformat": 4,
 "nbformat_minor": 5
}
